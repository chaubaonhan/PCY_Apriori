{
  "nbformat": 4,
  "nbformat_minor": 0,
  "metadata": {
    "colab": {
      "provenance": [],
      "collapsed_sections": [
        "QHeOV7NPacaB",
        "CxI0DoUDZk8k"
      ]
    },
    "kernelspec": {
      "name": "python3",
      "display_name": "Python 3"
    },
    "language_info": {
      "name": "python"
    }
  },
  "cells": [
    {
      "cell_type": "markdown",
      "source": [
        "#References\n",
        "\n",
        "https://drive.google.com/drive/u/2/folders/1hn-FP6oeMfoVJ3hXeX3MOsfUHpoLXZ2Z\n",
        "\n",
        "PCY page 39\n",
        "\n",
        "https://www.geeksforgeeks.org/pcy-algorithm-in-big-data/"
      ],
      "metadata": {
        "id": "QHeOV7NPacaB"
      }
    },
    {
      "cell_type": "markdown",
      "source": [
        "https://docs.google.com/document/d/1TPvw6hDHD95FTpEAoQv5RgwVLgjCMiP2FYnBPEqbjEs/edit?usp=sharing"
      ],
      "metadata": {
        "id": "l3j8-A2OW35v"
      }
    },
    {
      "cell_type": "markdown",
      "source": [
        "• The algorithm is organized in form of OOP classes to support software deployment.\n",
        "\n",
        "Refer to the FPGrowth class of PySpark for examples."
      ],
      "metadata": {
        "id": "BNf3ylGmbPYQ"
      }
    },
    {
      "cell_type": "markdown",
      "source": [
        "# Store data in Google Drive"
      ],
      "metadata": {
        "id": "dUUGZTwhbdyM"
      }
    },
    {
      "cell_type": "markdown",
      "source": [
        "##Connect into my drive"
      ],
      "metadata": {
        "id": "38_kQBx5ZI5y"
      }
    },
    {
      "cell_type": "code",
      "execution_count": 1,
      "metadata": {
        "id": "AmbD22rCX75E",
        "colab": {
          "base_uri": "https://localhost:8080/"
        },
        "outputId": "567618ac-6e00-42f3-8d20-b3c62529fae9"
      },
      "outputs": [
        {
          "output_type": "stream",
          "name": "stdout",
          "text": [
            "Mounted at /content/drive\n"
          ]
        }
      ],
      "source": [
        "from google.colab import drive\n",
        "drive.mount('/content/drive')"
      ]
    },
    {
      "cell_type": "code",
      "source": [
        "secret_path='/content/drive/MyDrive/baskets.csv'"
      ],
      "metadata": {
        "id": "QGo0cinyJMkC"
      },
      "execution_count": 2,
      "outputs": []
    },
    {
      "cell_type": "markdown",
      "source": [
        "#Using PySpark DataFrames to identify baskets (sets of items bought a customer in a date)."
      ],
      "metadata": {
        "id": "Ph113OtYeNrj"
      }
    },
    {
      "cell_type": "markdown",
      "source": [
        "##Import neccessary library"
      ],
      "metadata": {
        "id": "F1y2R6kNZMfJ"
      }
    },
    {
      "cell_type": "code",
      "source": [
        "!pip install pyspark"
      ],
      "metadata": {
        "colab": {
          "base_uri": "https://localhost:8080/"
        },
        "id": "ErVDUX4aDqxB",
        "outputId": "dee4d316-6c1a-4ca2-cf87-6b8415beaaa8"
      },
      "execution_count": null,
      "outputs": [
        {
          "output_type": "stream",
          "name": "stdout",
          "text": [
            "Requirement already satisfied: pyspark in /usr/local/lib/python3.11/dist-packages (3.5.5)\n",
            "Requirement already satisfied: py4j==0.10.9.7 in /usr/local/lib/python3.11/dist-packages (from pyspark) (0.10.9.7)\n"
          ]
        }
      ]
    },
    {
      "cell_type": "code",
      "source": [
        "from pyspark.sql import SparkSession\n",
        "from pyspark.sql.functions import  lit,concat_ws,collect_set,col, when,explode, array, struct, sort_array,split,desc,expr,row_number\n",
        "from pyspark.sql import DataFrame\n",
        "from pyspark.sql import functions as F\n",
        "import itertools\n",
        "import numpy as np\n",
        "from collections import defaultdict\n",
        "from os import truncate\n",
        "from pyspark.sql.window import Window"
      ],
      "metadata": {
        "id": "kqqIHf0qYCz3"
      },
      "execution_count": 3,
      "outputs": []
    },
    {
      "cell_type": "markdown",
      "source": [
        "##Read file_csv"
      ],
      "metadata": {
        "id": "wp6TNDfLZXfI"
      }
    },
    {
      "cell_type": "code",
      "source": [
        "spark = SparkSession.builder.appName(\"MarketBasket\").getOrCreate()\n",
        "baskets_df=spark.read.csv('/content/drive/MyDrive/baskets.csv', header=True)"
      ],
      "metadata": {
        "id": "ZLO0rQvwYMYh"
      },
      "execution_count": null,
      "outputs": []
    },
    {
      "cell_type": "code",
      "source": [
        "baskets_df.printSchema() #-> đều là kiểu String nên phải sử lí type"
      ],
      "metadata": {
        "colab": {
          "base_uri": "https://localhost:8080/"
        },
        "id": "BpYSmXBHZH5W",
        "outputId": "202375ce-2acd-4b26-dc2b-6e02b1427244"
      },
      "execution_count": null,
      "outputs": [
        {
          "output_type": "stream",
          "name": "stdout",
          "text": [
            "root\n",
            " |-- Member_number: string (nullable = true)\n",
            " |-- Date: string (nullable = true)\n",
            " |-- itemDescription: string (nullable = true)\n",
            " |-- year: string (nullable = true)\n",
            " |-- month: string (nullable = true)\n",
            " |-- day: string (nullable = true)\n",
            " |-- day_of_week: string (nullable = true)\n",
            "\n"
          ]
        }
      ]
    },
    {
      "cell_type": "code",
      "source": [
        "row_count = baskets_df.count()  # Đếm số dòng\n",
        "\n",
        "print(f\"Số dòng trong DataFrame: {row_count}\")"
      ],
      "metadata": {
        "colab": {
          "base_uri": "https://localhost:8080/"
        },
        "id": "S8pxlwSjRml2",
        "outputId": "fabcbe3f-586d-43db-972f-4b1b09f52a83"
      },
      "execution_count": null,
      "outputs": [
        {
          "output_type": "stream",
          "name": "stdout",
          "text": [
            "Số dòng trong DataFrame: 38765\n"
          ]
        }
      ]
    },
    {
      "cell_type": "markdown",
      "source": [
        "##Show data"
      ],
      "metadata": {
        "id": "CxI0DoUDZk8k"
      }
    },
    {
      "cell_type": "code",
      "source": [
        "print(baskets_df.show(5))#Tốn Ram nhưng đối với dùng show nhiều khi show toàn bộ"
      ],
      "metadata": {
        "colab": {
          "base_uri": "https://localhost:8080/"
        },
        "id": "4HqKYd0sYwZd",
        "outputId": "be8c753b-0078-49de-a5ff-ebe1a0efea8f"
      },
      "execution_count": null,
      "outputs": [
        {
          "output_type": "stream",
          "name": "stdout",
          "text": [
            "+-------------+----------+----------------+----+-----+---+-----------+\n",
            "|Member_number|      Date| itemDescription|year|month|day|day_of_week|\n",
            "+-------------+----------+----------------+----+-----+---+-----------+\n",
            "|         1249|01/01/2014|    citrus fruit|2014|    1|  1|          2|\n",
            "|         1249|01/01/2014|          coffee|2014|    1|  1|          2|\n",
            "|         1381|01/01/2014|            curd|2014|    1|  1|          2|\n",
            "|         1381|01/01/2014|            soda|2014|    1|  1|          2|\n",
            "|         1440|01/01/2014|other vegetables|2014|    1|  1|          2|\n",
            "+-------------+----------+----------------+----+-----+---+-----------+\n",
            "only showing top 5 rows\n",
            "\n",
            "None\n"
          ]
        }
      ]
    },
    {
      "cell_type": "code",
      "source": [
        "print(baskets_df.printSchema)"
      ],
      "metadata": {
        "colab": {
          "base_uri": "https://localhost:8080/"
        },
        "id": "JDfCAzutlnJO",
        "outputId": "c08d03b2-c606-487d-b9a6-5024c385611b"
      },
      "execution_count": null,
      "outputs": [
        {
          "output_type": "stream",
          "name": "stdout",
          "text": [
            "<bound method DataFrame.printSchema of DataFrame[Member_number: string, Date: string, itemDescription: string, year: string, month: string, day: string, day_of_week: string]>\n"
          ]
        }
      ]
    },
    {
      "cell_type": "markdown",
      "source": [
        "##Group data"
      ],
      "metadata": {
        "id": "vJBHxkSMdwhC"
      }
    },
    {
      "cell_type": "markdown",
      "source": [
        "* Đã kiểm tra thì một khách hàng có sự trùng lặp mua đồ cùng 1 ngày\n",
        "\n",
        "* Đã kiểm tra dữ liệu không có null"
      ],
      "metadata": {
        "id": "T_wKSrzYhh-6"
      }
    },
    {
      "cell_type": "code",
      "source": [
        "Custom_oneday_df = baskets_df.groupBy(\"Date\", \"Member_number\") \\\n",
        "               .agg(collect_set(\"itemDescription\").alias(\"Basket\"))"
      ],
      "metadata": {
        "id": "JWUoKyqAeEKX"
      },
      "execution_count": null,
      "outputs": []
    },
    {
      "cell_type": "code",
      "source": [
        "from pyspark.sql.functions import size, avg\n",
        "\n",
        "# Đếm số lượng khách hàng trong mỗi ngày\n",
        "Custom_oneday_df = Custom_oneday_df.withColumn(\"num_baskets\", size(\"Basket\"))\n",
        "\n",
        "# Tính trung bình số khách hàng mỗi ngày\n",
        "avg_customers_per_day = Custom_oneday_df.select(avg(\"num_baskets\")).collect()[0][0]\n",
        "#Trung bình mỗi ngày có 2.54 sản phẩm. -> sparse (chưa phản ánh tốc độ chạy)\n",
        "print(f\"📊 Trung bình mỗi ngày có {avg_customers_per_day:.2f} sản phẩm .\")"
      ],
      "metadata": {
        "colab": {
          "base_uri": "https://localhost:8080/"
        },
        "id": "1R8iSDSyXZYu",
        "outputId": "bc848337-4c1b-4b13-f73b-3be3a86e9e38"
      },
      "execution_count": null,
      "outputs": [
        {
          "output_type": "stream",
          "name": "stdout",
          "text": [
            "📊 Trung bình mỗi ngày có 2.54 sản phẩm .\n"
          ]
        }
      ]
    },
    {
      "cell_type": "code",
      "source": [
        "Custom_oneday_df.show(5,truncate=False)"
      ],
      "metadata": {
        "colab": {
          "base_uri": "https://localhost:8080/"
        },
        "id": "6bL6rTcmmgpS",
        "outputId": "6bb567f8-4873-44a1-bf9d-d65c011a3131"
      },
      "execution_count": null,
      "outputs": [
        {
          "output_type": "stream",
          "name": "stdout",
          "text": [
            "+----------+-------------+----------------------------------------+\n",
            "|Date      |Member_number|Basket                                  |\n",
            "+----------+-------------+----------------------------------------+\n",
            "|01/01/2014|1249         |[citrus fruit, coffee]                  |\n",
            "|01/01/2014|1381         |[curd, soda]                            |\n",
            "|01/01/2014|1440         |[yogurt, other vegetables]              |\n",
            "|01/01/2014|1659         |[specialty chocolate, frozen vegetables]|\n",
            "|01/01/2014|1789         |[candles, hamburger meat]               |\n",
            "+----------+-------------+----------------------------------------+\n",
            "only showing top 5 rows\n",
            "\n"
          ]
        }
      ]
    },
    {
      "cell_type": "markdown",
      "source": [
        "#Build dataset"
      ],
      "metadata": {
        "id": "5MM3-vmKIOZg"
      }
    },
    {
      "cell_type": "code",
      "source": [
        "class Dataset:\n",
        "    '''\n",
        "\n",
        "         Lớp Dataset chịu trách nhiệm đọc dữ liệu từ file CSV và xử lý dữ liệu giao dịch.\n",
        "\n",
        "    '''\n",
        "\n",
        "    def __init__(self, path: str):\n",
        "        '''\n",
        "\n",
        "            Khởi tạo Dataset với đường dẫn đến file CSV.\n",
        "\n",
        "            Args:\n",
        "                path (str): Đường dẫn đến file dữ liệu giao dịch.\n",
        "                spark (SparkSession): SparkSession để tạo DataFrame.\n",
        "                df (DataFrame): DataFrame chứa dữ liệu giao dịch.\n",
        "\n",
        "        '''\n",
        "        self.spark: SparkSession = SparkSession.builder.appName(\"MarketBasket\").getOrCreate()\n",
        "        self.path: str = path\n",
        "        self.df: DataFrame | None = None  # Biến lưu trữ DataFrame của dữ liệu giao dịch\n",
        "\n",
        "    def read_file(self) -> DataFrame:\n",
        "        '''\n",
        "\n",
        "            Đọc dữ liệu từ file CSV và lưu vào biến self.df.\n",
        "\n",
        "            Returns:\n",
        "                DataFrame: Dữ liệu giao dịch dưới dạng Spark DataFrame.\n",
        "\n",
        "        '''\n",
        "        # print(\"📥 Đang đọc dữ liệu từ CSV...\")\n",
        "        self.df = self.spark.read.csv(self.path, header=True)\n",
        "        return self.df\n",
        "\n",
        "    def get_row_count(self,custom_df) -> int:\n",
        "        '''\n",
        "\n",
        "            Đếm số dòng (số lượng giao dịch) trong DataFrame.\n",
        "\n",
        "            Returns:\n",
        "                int: Số lượng giao dịch.\n",
        "\n",
        "            Raises:\n",
        "                ValueError: Nếu dữ liệu chưa được đọc.\n",
        "\n",
        "        '''\n",
        "        if custom_df is not None:\n",
        "            return custom_df.count()\n",
        "        raise ValueError(\"❌ Data chưa được load. Hãy gọi `read_file()` trước.\")\n",
        "\n",
        "    def group_data(self) -> DataFrame:\n",
        "        '''\n",
        "\n",
        "              Nhóm dữ liệu theo ngày và khách hàng để tạo các giỏ hàng (baskets).\n",
        "\n",
        "              Returns:\n",
        "                  DataFrame: DataFrame chứa danh sách sản phẩm mà mỗi khách hàng đã mua trong từng ngày.\n",
        "\n",
        "              Raises:\n",
        "                  ValueError: Nếu dữ liệu chưa được đọc.\n",
        "\n",
        "        '''\n",
        "        if self.df is None:\n",
        "            raise ValueError(\"❌ Data chưa được load. Hãy gọi `read_file()` trước.\")\n",
        "\n",
        "        # print(\"🔄 Đang nhóm dữ liệu theo ngày và khách hàng...\")\n",
        "        return self.df.groupBy(\"Date\", \"Member_number\") \\\n",
        "                      .agg(collect_set(\"itemDescription\").alias(\"Basket\"))"
      ],
      "metadata": {
        "id": "wu4_DSdsIQpo"
      },
      "execution_count": 4,
      "outputs": []
    },
    {
      "cell_type": "markdown",
      "source": [
        "#Build class PCY"
      ],
      "metadata": {
        "id": "w52dpmOXFZfc"
      }
    },
    {
      "cell_type": "markdown",
      "source": [
        "**PCY algorithm**"
      ],
      "metadata": {
        "id": "7iiP7-94nPis"
      }
    },
    {
      "cell_type": "markdown",
      "source": [
        "• Implement the PCY algorithm to identify frequent pairs and generate association rules based on a given support threshold s and a confidence threshold c. Describe, in details, the hashing function and bucket management."
      ],
      "metadata": {
        "id": "V0lCfTxcnSCB"
      }
    },
    {
      "cell_type": "code",
      "source": [
        "class PCY:\n",
        "    '''\n",
        "\n",
        "         Lớp PCY triển khai thuật toán PCY để tìm tập phổ biến trong dữ liệu giao dịch.\n",
        "\n",
        "    '''\n",
        "\n",
        "    def __init__(self, dataset: Dataset, num_buckets: int, support_threshold: float, confidence_threshold: float):\n",
        "\n",
        "        '''\n",
        "\n",
        "            Khởi tạo thuật toán PCY với dữ liệu đầu vào từ Dataset.\n",
        "\n",
        "            Args:\n",
        "                dataset (Dataset): Đối tượng Dataset chứa dữ liệu giao dịch.\n",
        "                num_buckets (int): Số lượng bucket trong thuật toán.\n",
        "                support_threshold (float): Ngưỡng phổ biến.\n",
        "                num_baskets (int): Tổng số lượng giao dịch.\n",
        "                frequent_1_item (DataFrame): DataFrame chứa các mục phổ biến có chứa 1 phần tử.\n",
        "                buckets (DataFrame): Biến lưu trữ các bucket.\n",
        "                min_support (float): Ngưỡng hỗ trợ tối thiểu.\n",
        "                confidence_threshold (float): Ngưỡng tin cậy.\n",
        "                frequent_pairs (DataFrame): Tập các cặp phổ biến.\n",
        "\n",
        "        '''\n",
        "\n",
        "        self.dataset: Dataset = dataset  # Đối tượng Dataset quản lý dữ liệu giao dịch\n",
        "        self.num_buckets: int = num_buckets  # Số lượng  bucket\n",
        "        self.num_baskets: int | None = None  # Tổng số lượng giao dịch\n",
        "        self.support_threshold: float = support_threshold  # Ngưỡng phổ biến\n",
        "        self.min_support: float = 0.0  # Ngưỡng hỗ trợ tối thiểu\n",
        "        self.buckets: DataFrame | None = None  # Biến lưu trữ các bucket\n",
        "        self.frequent_1_item: DataFrame | None = None # Tập item đơn lẻ phổ biến\n",
        "        self.confidence_threshold: float = confidence_threshold  # Ngưỡng tin cậy\n",
        "        self.frequent_pairs: DataFrame | None = None  # Tập các cặp phổ biến\n",
        "        self.association_rules: DataFrame | None = None  # Tập các luật kết hợp\n",
        "\n",
        "    def filter_item_list(self, one_item_df: DataFrame) -> DataFrame:\n",
        "\n",
        "        '''\n",
        "\n",
        "            Lọc các mục phổ biến dựa trên ngưỡng hỗ trợ (support_threshold).\n",
        "\n",
        "            Args:\n",
        "                one_item_df (DataFrame): DataFrame chứa các mục và số lần xuất hiện (count).\n",
        "\n",
        "            Returns:\n",
        "                DataFrame: DataFrame chứa các mục phổ biến với cột probability.\n",
        "\n",
        "        '''\n",
        "\n",
        "        return (one_item_df\n",
        "                .withColumn(\"support count\", F.col(\"count\") )\n",
        "                .withColumn(\"probability\", F.col(\"count\") / self.num_baskets)\n",
        "                .filter(F.col(\"probability\") >= self.support_threshold))\n",
        "\n",
        "\n",
        "    def preprocess_and_hash(self, Custom_oneday_df: DataFrame) -> DataFrame:\n",
        "\n",
        "        '''\n",
        "\n",
        "            Kết hợp đếm item đơn lẻ và tạo hash table cho buckets.\n",
        "\n",
        "            Args:\n",
        "                Custom_oneday_df (DataFrame): DataFrame giỏ hàng sau khi nhóm theo ngày, khách hàng.\n",
        "\n",
        "            Returns:\n",
        "                DataFrame: DataFrame item đơn lẻ và số lần xuất hiện >= 2\n",
        "\n",
        "        '''\n",
        "\n",
        "        if self.num_baskets is None:\n",
        "            raise ValueError(\"❌ num_baskets chưa được tính. Hãy gọi run() trước.\")\n",
        "\n",
        "        # Đếm item đơn lẻ\n",
        "        one_item_df = (\n",
        "            Custom_oneday_df\n",
        "            .select(F.explode(\"basket\").alias(\"item\"))\n",
        "            .groupBy(\"item\")\n",
        "            .agg(F.count(\"*\").alias(\"count\"))\n",
        "            .filter(F.col(\"count\") >= 2)\n",
        "        )\n",
        "\n",
        "        # Tạo hash table (bucket)\n",
        "        hash_pairs = (\n",
        "            Custom_oneday_df\n",
        "            .select(F.expr(f\"\"\"\n",
        "                flatten(\n",
        "                    transform(basket, x ->\n",
        "                        transform(filter(basket, y -> y > x), y ->\n",
        "                            array(x, y, abs(hash(x) + hash(y)) % {self.num_buckets})\n",
        "                        )\n",
        "                    )\n",
        "                ) as pairs\n",
        "            \"\"\"))\n",
        "        )\n",
        "\n",
        "        self.buckets = (\n",
        "            hash_pairs\n",
        "            .select(F.explode(\"pairs\").alias(\"pair\"))\n",
        "            .select(\n",
        "                F.col(\"pair\")[0].alias(\"item1\"),\n",
        "                F.col(\"pair\")[1].alias(\"item2\"),\n",
        "                F.col(\"pair\")[2].alias(\"bucket_index\")\n",
        "            )\n",
        "            .groupBy(\"bucket_index\")\n",
        "            .agg(\n",
        "                F.collect_set(F.concat(F.col(\"item1\"), F.lit(\"|\"), F.col(\"item2\"))).alias(\"pairs\"),\n",
        "                F.count(\"*\").alias(\"support\")\n",
        "            )\n",
        "        )\n",
        "\n",
        "        return one_item_df\n",
        "\n",
        "    def bit_map(self) -> None:\n",
        "\n",
        "          '''\n",
        "\n",
        "               Bit vector - Nếu support của bucket lớn hơn bằng ngưỡng thì bit vector là 1 nếu không 0. (chủ yếu là 1)\n",
        "\n",
        "               Updates:\n",
        "\n",
        "                         self.buckets (DataFrame): Thêm số 0 và 1.\n",
        "\n",
        "          '''\n",
        "\n",
        "          self.buckets = self.buckets.withColumn(  \"bit_vector\",when(col(\"support\") >= self.min_support, 1).otherwise(0))\n",
        "\n",
        "    def linked_filter(self, one_item_df: DataFrame) -> None:\n",
        "\n",
        "          '''\n",
        "\n",
        "              Trỏ đến chức năng lọc mà không được trực tiếp dùng đến hàm lọc.\n",
        "\n",
        "              Args:\n",
        "                  one_item_df (DataFrame): DataFrame chứa các mục và số lần xuất hiện (count).\n",
        "\n",
        "          '''\n",
        "\n",
        "          # print(\"✅ Đang lọc các mục không phổ biến.\")\n",
        "\n",
        "          one_item_df = self.filter_item_list(one_item_df)\n",
        "          # print(\"✅ Đã lọc item đơn lẻ bởi support_threshold.\")\n",
        "\n",
        "          # Tạo frequent_items_df với item và probability\n",
        "          self.frequent_1_item = one_item_df.select(\"item\", \"support count\" ,\"probability\")\n",
        "          self.frequent_1_item = self.frequent_1_item.orderBy(desc(\"probability\"))\n",
        "\n",
        "    def counts_of_candidate_pairs(self) -> None:\n",
        "\n",
        "          '''\n",
        "\n",
        "                  Đếm những cặp phổ biến trong tập dữ liệu    **\n",
        "\n",
        "\n",
        "                  Updates:\n",
        "\n",
        "                            self.frequent_pair (DataFrame): Thêm cột support count.\n",
        "          '''\n",
        "\n",
        "          # Bước 1: Duyệt qua baskets\n",
        "          basket_pairs = (\n",
        "              self.dataset.group_data()\n",
        "              .withColumn(\"pairs\", expr(\"\"\"\n",
        "                  flatten(\n",
        "                      transform(Basket, x ->\n",
        "                          transform(Basket, y ->\n",
        "                              IF(x < y, array(x, y), NULL)\n",
        "                          )\n",
        "                      )\n",
        "                  )\n",
        "              \"\"\"))  # Tạo danh sách cặp (x, y) và đảm bảo cặp luôn có thứ tự (x < y)\n",
        "              .withColumn(\"pairs\", expr(\"FILTER(pairs, x -> x[0] != x[1])\"))  # Loại bỏ cặp (x, x)\n",
        "              .withColumn(\"pair\", explode(col(\"pairs\")))  # Phân rã danh sách cặp\n",
        "              .select(\"pair\")  # Chỉ lấy cột chứa cặp\n",
        "          )\n",
        "\n",
        "          # Bước 2: Lọc các cặp phổ biến từ các cặp sinh ra trong giỏ hàng\n",
        "          filtered_pairs = (\n",
        "              basket_pairs\n",
        "              .join(self.frequent_pairs, col(\"pair\") == expr(\"array(item1, item2)\"), \"inner\")\n",
        "          )\n",
        "\n",
        "          # Bước 3: Đếm số lần xuất hiện của từng cặp\n",
        "          self.frequent_pairs = (\n",
        "              filtered_pairs\n",
        "              .groupBy(\"pair\")\n",
        "              .count()\n",
        "              .withColumnRenamed(\"count\", \"support_count\")\n",
        "          )\n",
        "\n",
        "          # Bước 4: Tính probability\n",
        "\n",
        "          self.frequent_pairs = self.frequent_pairs.withColumn(\n",
        "              \"probability\", col(\"support_count\") / self.num_baskets\n",
        "          ).filter(col(\"probability\") >= self.support_threshold)\n",
        "\n",
        "          # Bước 5: Giữ lại ba cột: pairs, support_count, probability\n",
        "          self.frequent_pairs = self.frequent_pairs.select(\"pair\", \"support_count\", \"probability\")\n",
        "\n",
        "          # Bước 6: Sắp xếp theo support_count giảm dần\n",
        "          self.frequent_pairs = self.frequent_pairs.orderBy(desc(\"support_count\"))\n",
        "\n",
        "    def create_frequent_pair(self) -> None:\n",
        "\n",
        "          '''\n",
        "\n",
        "              Tạo ra một tập các cặp phổ biến và độ hỗ trợ ứng với cặp đó\n",
        "\n",
        "              Updates:\n",
        "\n",
        "                      self.frequent_pairs (DataFrame): Tập các cặp phổ biến\n",
        "\n",
        "          '''\n",
        "\n",
        "          # Tìm các pairs (i,j) từ frequent buckets trong không gian bitmap (số nguyên 4 bytes đếm được thay thế bằng các bit vectơ bit -> giảm xuống 1/32 bộ nhớ)\n",
        "\n",
        "          pairs_frequent_buckets = (\n",
        "              self.buckets\n",
        "              .filter(col(\"bit_vector\") == 1)\n",
        "              .select(explode(col(\"pairs\")).alias(\"pair\"))\n",
        "              .select(split(col(\"pair\"), \"\\\\|\").alias(\"items\"))\n",
        "              .select(sort_array(array(col(\"items\")[0], col(\"items\")[1])).alias(\"frequent_pairs\"))\n",
        "          )\n",
        "\n",
        "          # pair_frequent_buckets.show(truncate=False)\n",
        "          # print(f\"Số lượng pairs trong bucket phổ biến : {pairs_frequent_buckets.count()}\") -> 5370\n",
        "\n",
        "          # Lọc các pairs (i,j) phổ biến bằng cách xét cả hai i và j đều phổ biến -> candidate_pairs\n",
        "\n",
        "          self.frequent_pairs = (\n",
        "            pairs_frequent_buckets\n",
        "            .join(self.frequent_1_item.alias(\"f1\"), pairs_frequent_buckets.frequent_pairs[0] == col(\"f1.item\"))\n",
        "            .join(self.frequent_1_item.alias(\"f2\"), pairs_frequent_buckets.frequent_pairs[1] == col(\"f2.item\"))\n",
        "            .select(\"frequent_pairs\")\n",
        "            .distinct()\n",
        "            )\n",
        "\n",
        "          # self.frequent_pairs.show(truncate=False)\n",
        "          # print(f\"Số lượng pairs ứng viên : {self.frequent_pairs.count()}\") -> 5217\n",
        "\n",
        "          # Tách pair thành hai cột item1 và item2\n",
        "\n",
        "          self.frequent_pairs = self.frequent_pairs.withColumn(\"item1\", col(\"frequent_pairs\")[0]) \\\n",
        "                                .withColumn(\"item2\", col(\"frequent_pairs\")[1]) \\\n",
        "\n",
        "          # Đếm các candidate pairs\n",
        "\n",
        "          self.counts_of_candidate_pairs()\n",
        "\n",
        "          # self.frequent_pairs.show(truncate=False)\n",
        "\n",
        "    def generate_association_rules(self) -> None:\n",
        "\n",
        "          '''\n",
        "\n",
        "              Tạo ra các luật kết hợp (association rules) từ các tập hợp phổ biến.\n",
        "\n",
        "          '''\n",
        "\n",
        "          # print(\"🔄 Đang tạo luật kết hợp...\")\n",
        "\n",
        "          # Tách các cặp `pair` thành hai cột `antecedent` và `consequent`\n",
        "          self.association_rules = self.frequent_pairs.withColumn(\"antecedent\", col(\"pair\")[0]) \\\n",
        "                                                  .withColumn(\"consequent\", col(\"pair\")[1]) \\\n",
        "                                                  .withColumn(\"support_count_pair\", col(\"support_count\")) \\\n",
        "                                                  .drop(\"pair\", \"support_count\", \"probability\")\n",
        "\n",
        "          self.association_rules_rev = self.frequent_pairs.withColumn(\"antecedent\", col(\"pair\")[1]) \\\n",
        "                                                            .withColumn(\"consequent\", col(\"pair\")[0]) \\\n",
        "                                                            .withColumn(\"support_count_pair\", col(\"support_count\")) \\\n",
        "                                                            .drop(\"pair\", \"support_count\", \"probability\")\n",
        "\n",
        "          self.association_rules = self.association_rules.union(self.association_rules_rev)\n",
        "\n",
        "          self.association_rules = self.association_rules.join(\n",
        "              self.frequent_1_item.selectExpr(\"item as antecedent\", \"`support count` as antecedent_count\", \"probability as antecedent_support\"),\n",
        "              on=\"antecedent\",\n",
        "              how=\"left\"\n",
        "          )\n",
        "\n",
        "          self.association_rules = self.association_rules.join(\n",
        "              self.frequent_1_item.selectExpr(\"item as consequent\", \"`support count` as consequent_count\", \"probability as consequent_support\"),\n",
        "              on=\"consequent\",\n",
        "              how=\"left\"\n",
        "          )\n",
        "\n",
        "          self.association_rules = (\n",
        "              self.association_rules\n",
        "              .select(\"antecedent\", \"consequent\", \"support_count_pair\", \"antecedent_count\",\"antecedent_support\", \"consequent_support\")\n",
        "              .withColumn(\"support\", col(\"support_count_pair\") / self.num_baskets)\n",
        "              .withColumn(\"confidence\", col(\"support_count_pair\") / col(\"antecedent_count\"))\n",
        "              .filter(col(\"confidence\") >= self.confidence_threshold)\n",
        "              .orderBy(desc(\"confidence\"))\n",
        "          )\n",
        "\n",
        "          # print(self.association_rules.count())\n",
        "          # print(\"✅ Đã tạo luật kết hợp.\")\n",
        "\n",
        "    def save_result(self) -> None:\n",
        "\n",
        "          '''\n",
        "\n",
        "              Lưu các item đơn lẻ phổ biến và các cặp phổ biển vào file .txt\n",
        "\n",
        "          '''\n",
        "\n",
        "          window_spec = Window.orderBy(desc(\"support_count\"))\n",
        "\n",
        "          # Lưu frequent_1_item (chỉ lấy cột item và support count)\n",
        "          (self.frequent_1_item\n",
        "              .select(\"item\", \"support count\")\n",
        "              .orderBy(desc(\"support count\"))\n",
        "              .coalesce(1)  # Lưu vào một file duy nhất\n",
        "              .write\n",
        "              .option(\"header\", \"true\")\n",
        "              .option(\"sep\", \",\")  # Phân tách bằng dấu phẩy\n",
        "              .mode(\"overwrite\")\n",
        "              .csv(\"frequent_1_item.csv\")\n",
        "          )\n",
        "\n",
        "          # Lưu frequent_pairs (giữ nguyên pair dưới dạng [])\n",
        "          (self.frequent_pairs\n",
        "              .withColumn(\"index\", row_number().over(window_spec))\n",
        "              .select(\"index\",concat_ws(\", \", self.frequent_pairs.pair).alias(\"pair\"),\"support_count\")\n",
        "              .coalesce(1)\n",
        "              .write\n",
        "              .option(\"header\", \"true\")\n",
        "              .option(\"sep\", \",\")\n",
        "              .mode(\"overwrite\")\n",
        "              .csv(\"frequent_pairs.csv\")\n",
        "          )\n",
        "\n",
        "          (self.association_rules\n",
        "            .select(\"antecedent\", \"consequent\", \"support\", \"antecedent_support\", \"consequent_support\",\"confidence\")\n",
        "            .orderBy(desc(\"confidence\"))\n",
        "            .coalesce(1)\n",
        "            .write\n",
        "            .option(\"header\", \"true\")\n",
        "            .option(\"sep\", \",\")\n",
        "            .mode(\"overwrite\")\n",
        "            .csv(\"association_rules.csv\")\n",
        "           )\n",
        "          (self.association_rules\n",
        "          .selectExpr(\"concat('{',antecedent,'}', ' -> ', '{',consequent,'}') as rule\")\n",
        "          .write\n",
        "          .mode(\"overwrite\")\n",
        "          .text(\"association_rules.txt\")\n",
        "          )\n",
        "          # # print(\"✅ Đã lưu kết quả vào frequent_1_item.csv, frequent_pairs.csv và association_rules.csv\")\n",
        "\n",
        "    def fit(self) -> None:\n",
        "\n",
        "          '''\n",
        "\n",
        "              Chạy thuật toán PCY để tìm các mục phổ biến dựa trên dữ liệu giao dịch.\n",
        "\n",
        "          '''\n",
        "\n",
        "          # print(\"🚀 Bắt đầu thuật toán PCY...\")\n",
        "\n",
        "          # 1️⃣ Đọc dữ liệu từ file CSV\n",
        "          self.dataset.read_file()\n",
        "\n",
        "          # 2️⃣ Nhóm dữ liệu theo ngày và khách hàng để tạo giỏ hàng\n",
        "          Custom_oneday_df = self.dataset.group_data()\n",
        "\n",
        "          # 3️⃣ Tính tổng số lượng giao dịch (baskets) và ngưỡng phổ biến (support threshold)\n",
        "          self.num_baskets = self.dataset.get_row_count(Custom_oneday_df)\n",
        "          # print(f\" Số lượng giao dịch: {self.num_baskets}\") -> 14963\n",
        "          self.min_support = self.support_threshold * self.num_baskets\n",
        "          # print(f \"Độ hỗ trợ tối thiểu: {self.min_support}\") -> 14.963\n",
        "\n",
        "          # ✅ Pass 1:\n",
        "\n",
        "          # Đếm lượng item đơn lẻ\n",
        "          # #Tạo hash table\n",
        "          one_item_df = self.preprocess_and_hash(Custom_oneday_df)\n",
        "          # print(\"📌 Một số bucket sau khi băm....\")\n",
        "\n",
        "\n",
        "          # Sắp xếp bucket tăng dần theo index\n",
        "          (self.buckets\n",
        "              .orderBy(\"bucket_index\", ascending=True)\n",
        "          )\n",
        "\n",
        "          # print(\"\\n📊 Thông tin buckets:\")\n",
        "          # self.buckets.show(10,truncate=False)\n",
        "          # print(f\"🔢 Tổng số bucket được tạo: {self.buckets.count()}\")\n",
        "\n",
        "          # ✅ Pass 2:\n",
        "\n",
        "          # Frequent items\n",
        "          self.linked_filter(one_item_df)\n",
        "          # print(\"\\nCác mục phổ biến (frequent_1_item) với probability:\")\n",
        "          # self.frequent_1_item.show()\n",
        "\n",
        "          #Tạo bitmap\n",
        "          self.bit_map()\n",
        "          # print(\"✅ Đã tạo bitmap.\")\n",
        "          # Hiển thị vài buckets đầu tiên\n",
        "          # self.buckets.show(10,truncate=False)\n",
        "\n",
        "          #Đếm các cặp ứng cử viên\n",
        "          self.create_frequent_pair()\n",
        "\n",
        "          # Tạo association rules\n",
        "          self.generate_association_rules()\n",
        "\n",
        "\n",
        "          #Save result\n",
        "          # self.save_result()\n",
        "\n",
        "          # print(\"🎉 Hoàn thành thuật toán PCY!\")\n"
      ],
      "metadata": {
        "id": "ZjTxqWElET7y",
        "collapsed": true
      },
      "execution_count": 7,
      "outputs": []
    },
    {
      "cell_type": "code",
      "source": [
        "dataset = Dataset(secret_path)"
      ],
      "metadata": {
        "id": "dP5H4YdXFVI3"
      },
      "execution_count": 6,
      "outputs": []
    },
    {
      "cell_type": "code",
      "source": [
        "pcy= PCY(dataset,support_threshold=0.001,num_buckets=1000,confidence_threshold=0.1)\n",
        "pcy.fit()"
      ],
      "metadata": {
        "id": "ClkQWXV7E_yC"
      },
      "execution_count": 8,
      "outputs": []
    },
    {
      "cell_type": "code",
      "source": [
        "pcy.frequent_pairs.show(truncate=False)"
      ],
      "metadata": {
        "colab": {
          "base_uri": "https://localhost:8080/"
        },
        "id": "--WhOgMC1AdH",
        "outputId": "ed74ac79-a773-4763-a510-8049aaf01626"
      },
      "execution_count": null,
      "outputs": [
        {
          "output_type": "stream",
          "name": "stdout",
          "text": [
            "+----------------------------------+-------------+--------------------+\n",
            "|pair                              |support_count|probability         |\n",
            "+----------------------------------+-------------+--------------------+\n",
            "|[other vegetables, whole milk]    |222          |0.014836596939116486|\n",
            "|[rolls/buns, whole milk]          |209          |0.013967787208447505|\n",
            "|[soda, whole milk]                |174          |0.011628684087415625|\n",
            "|[whole milk, yogurt]              |167          |0.011160863463209249|\n",
            "|[other vegetables, rolls/buns]    |158          |0.010559379803515338|\n",
            "|[other vegetables, soda]          |145          |0.009690570072846355|\n",
            "|[sausage, whole milk]             |134          |0.008955423377664907|\n",
            "|[tropical fruit, whole milk]      |123          |0.008220276682483459|\n",
            "|[other vegetables, yogurt]        |121          |0.008086613646995923|\n",
            "|[rolls/buns, soda]                |121          |0.008086613646995923|\n",
            "|[rolls/buns, yogurt]              |117          |0.007819287576020852|\n",
            "|[root vegetables, whole milk]     |113          |0.00755196150504578 |\n",
            "|[bottled beer, whole milk]        |107          |0.007150972398583172|\n",
            "|[citrus fruit, whole milk]        |107          |0.007150972398583172|\n",
            "|[bottled water, whole milk]       |107          |0.007150972398583172|\n",
            "|[pip fruit, whole milk]           |99           |0.006616320256633028|\n",
            "|[pastry, whole milk]              |97           |0.006482657221145492|\n",
            "|[shopping bags, whole milk]       |95           |0.006348994185657956|\n",
            "|[other vegetables, tropical fruit]|94           |0.006282162667914188|\n",
            "|[rolls/buns, tropical fruit]      |91           |0.006081668114682885|\n",
            "+----------------------------------+-------------+--------------------+\n",
            "only showing top 20 rows\n",
            "\n"
          ]
        }
      ]
    },
    {
      "cell_type": "code",
      "source": [
        "pcy.association_rules.show(truncate=False)"
      ],
      "metadata": {
        "colab": {
          "base_uri": "https://localhost:8080/"
        },
        "id": "d0rOF1Lh1edf",
        "outputId": "a456a550-c2d2-44f2-ae8b-e3b304c13124"
      },
      "execution_count": null,
      "outputs": [
        {
          "output_type": "stream",
          "name": "stdout",
          "text": [
            "+-------------------------+----------+--------------------+-------------------+---------------------+-------------------+\n",
            "|antecedent               |consequent|antecedent_support  |consequent_support |support              |confidence         |\n",
            "+-------------------------+----------+--------------------+-------------------+---------------------+-------------------+\n",
            "|semi-finished bread      |whole milk|0.009490075519615051|0.15792287642852368|0.001670787943594199 |0.176056338028169  |\n",
            "|detergent                |whole milk|0.008621265788946068|0.15792287642852368|0.001403461872619127 |0.1627906976744186 |\n",
            "|ham                      |whole milk|0.0171088685424046  |0.15792287642852368|0.0027400922274944863|0.16015624999999997|\n",
            "|bottled beer             |whole milk|0.04531176903027468 |0.15792287642852368|0.007150972398583172 |0.15781710914454278|\n",
            "|frozen fish              |whole milk|0.006816814809864332|0.15792287642852368|0.0010693042839002875|0.15686274509803924|\n",
            "|candy                    |whole milk|0.014368776314910112|0.15792287642852368|0.002138608567800575 |0.1488372093023256 |\n",
            "|sausage                  |whole milk|0.06034886052262247 |0.15792287642852368|0.008955423377664907 |0.14839424141749724|\n",
            "|onions                   |whole milk|0.02024994987636169 |0.15792287642852368|0.0029405867807257902|0.14521452145214522|\n",
            "|processed cheese         |rolls/buns|0.01015839069705273 |0.11000467820624206|0.0014702933903628951|0.14473684210526316|\n",
            "|processed cheese         |whole milk|0.01015839069705273 |0.15792287642852368|0.0014702933903628951|0.14473684210526316|\n",
            "|newspapers               |whole milk|0.038895943326872955|0.15792287642852368|0.005613847490476508 |0.14432989690721648|\n",
            "|domestic eggs            |whole milk|0.037091492347791216|0.15792287642852368|0.005279689901757669 |0.14234234234234236|\n",
            "|packaged fruit/vegetables|rolls/buns|0.00848760275345853 |0.11000467820624206|0.0012029673193878234|0.14173228346456695|\n",
            "|seasonal products        |rolls/buns|0.007084140880839404|0.11000467820624206|0.0010024727661565194|0.14150943396226415|\n",
            "|cat food                 |whole milk|0.011829178640646929|0.15792287642852368|0.001670787943594199 |0.14124293785310735|\n",
            "|waffles                  |whole milk|0.018512330415023724|0.15792287642852368|0.0026064291920069507|0.14079422382671483|\n",
            "|hamburger meat           |whole milk|0.021853906302212123|0.15792287642852368|0.0030742498162133263|0.14067278287461774|\n",
            "|frankfurter              |whole milk|0.037759807525228894|0.15792287642852368|0.005279689901757669 |0.13982300884955753|\n",
            "|sugar                    |whole milk|0.01771035220209851 |0.15792287642852368|0.0024727661565194146|0.13962264150943396|\n",
            "|chewing gum              |whole milk|0.012029673193878232|0.15792287642852368|0.001670787943594199 |0.1388888888888889 |\n",
            "+-------------------------+----------+--------------------+-------------------+---------------------+-------------------+\n",
            "only showing top 20 rows\n",
            "\n"
          ]
        }
      ]
    },
    {
      "cell_type": "markdown",
      "source": [
        "# Deploy ideas for each function"
      ],
      "metadata": {
        "id": "JzhfHh71ZBUA"
      }
    },
    {
      "cell_type": "markdown",
      "source": [
        "## Pass 1"
      ],
      "metadata": {
        "id": "Tm_43yKCnS_n"
      }
    },
    {
      "cell_type": "code",
      "source": [
        "def count_items(Custom_oneday_df) -> DataFrame:\n",
        "  '''\n",
        "\n",
        "      Function count item or items\n",
        "      Input:\n",
        "              Custom_oneday_df: DatFrame\n",
        "      Output:\n",
        "              Return DataFrame\n",
        "\n",
        "  '''\n",
        "  return  (Custom_oneday_df\n",
        "      .select(F.explode(\"basket\").alias(\"item\"))\n",
        "      .groupBy(\"item\")\n",
        "      .agg(F.count(\"*\").alias(\"count\"))\n",
        "      .filter(F.col(\"count\") >= 15)\n",
        "      .withColumn(\"support\", F.round(F.col(\"count\") / 14963,4))\n",
        "  )"
      ],
      "metadata": {
        "id": "_FP-xS6dsuLc"
      },
      "execution_count": null,
      "outputs": []
    },
    {
      "cell_type": "code",
      "source": [
        "df=count_items(Custom_oneday_df)"
      ],
      "metadata": {
        "id": "50nj14DfJ9LR"
      },
      "execution_count": null,
      "outputs": []
    },
    {
      "cell_type": "code",
      "source": [
        "df.show()"
      ],
      "metadata": {
        "colab": {
          "base_uri": "https://localhost:8080/"
        },
        "id": "Typc_fYe6kY4",
        "outputId": "22e40a47-9aeb-41d4-ad0a-ad31e27d0b5a"
      },
      "execution_count": null,
      "outputs": [
        {
          "output_type": "stream",
          "name": "stdout",
          "text": [
            "+------------------+-----+-------+\n",
            "|              item|count|support|\n",
            "+------------------+-----+-------+\n",
            "|pickled vegetables|  134|  0.009|\n",
            "|         beverages|  248| 0.0166|\n",
            "|    snack products|   27| 0.0018|\n",
            "|           vinegar|   51| 0.0034|\n",
            "|            dishes|  135|  0.009|\n",
            "|          cat food|  177| 0.0118|\n",
            "|    red/blush wine|  157| 0.0105|\n",
            "|          cake bar|   92| 0.0061|\n",
            "|   organic sausage|   22| 0.0015|\n",
            "|           napkins|  331| 0.0221|\n",
            "|              meat|  252| 0.0168|\n",
            "| frozen vegetables|  419|  0.028|\n",
            "|        white wine|  175| 0.0117|\n",
            "|       frozen fish|  102| 0.0068|\n",
            "|       frankfurter|  565| 0.0378|\n",
            "|           mustard|   92| 0.0061|\n",
            "| canned vegetables|   82| 0.0055|\n",
            "|     cream cheese |  354| 0.0237|\n",
            "|    kitchen towels|   30|  0.002|\n",
            "|      canned fruit|   21| 0.0014|\n",
            "+------------------+-----+-------+\n",
            "only showing top 20 rows\n",
            "\n"
          ]
        }
      ]
    },
    {
      "cell_type": "code",
      "source": [
        "from pyspark.sql.functions import min, max\n",
        "\n",
        "# Tính giá trị lớn nhất và nhỏ nhất của cột \"count\"\n",
        "df_stats = df.agg(\n",
        "    max(\"count\").alias(\"max_count\"),\n",
        "    min(\"count\").alias(\"min_count\")\n",
        ")\n",
        "\n",
        "# Hiển thị kết quả\n",
        "df_stats.show()\n"
      ],
      "metadata": {
        "colab": {
          "base_uri": "https://localhost:8080/"
        },
        "id": "5WuqeM6vK4ox",
        "outputId": "ee604eca-50bc-41c9-98f9-a670cc7e901b"
      },
      "execution_count": null,
      "outputs": [
        {
          "output_type": "stream",
          "name": "stdout",
          "text": [
            "+---------+---------+\n",
            "|max_count|min_count|\n",
            "+---------+---------+\n",
            "|     2363|        3|\n",
            "+---------+---------+\n",
            "\n"
          ]
        }
      ]
    },
    {
      "cell_type": "markdown",
      "source": [
        "## Pass 2"
      ],
      "metadata": {
        "id": "3p7Y47ioYUdg"
      }
    },
    {
      "cell_type": "code",
      "source": [
        "Custom_oneday_df.select('Basket')"
      ],
      "metadata": {
        "colab": {
          "base_uri": "https://localhost:8080/"
        },
        "id": "T4iEI14B3L9V",
        "outputId": "f277b453-e052-4fad-d9e9-c030978c2eb3"
      },
      "execution_count": null,
      "outputs": [
        {
          "output_type": "stream",
          "name": "stdout",
          "text": [
            "+--------------------+\n",
            "|              Basket|\n",
            "+--------------------+\n",
            "|[citrus fruit, co...|\n",
            "|        [curd, soda]|\n",
            "|[yogurt, other ve...|\n",
            "|[specialty chocol...|\n",
            "|[candles, hamburg...|\n",
            "+--------------------+\n",
            "only showing top 5 rows\n",
            "\n"
          ]
        }
      ]
    },
    {
      "cell_type": "code",
      "source": [
        "from mlxtend.frequent_patterns import apriori\n",
        "from mlxtend.frequent_patterns import association_rules\n",
        "import pandas as pd\n",
        "from mlxtend.preprocessing import TransactionEncoder\n",
        "\n",
        "# Giả sử Custom_oneday_df là PySpark DataFrame\n",
        "# Chuyển cột 'Basket' từ PySpark DataFrame sang danh sách Python\n",
        "transactions = [row['Basket'] for row in Custom_oneday_df.select('Basket').collect()]\n",
        "\n",
        "# Chuyển dữ liệu thành định dạng One-Hot Encoding\n",
        "te = TransactionEncoder()\n",
        "te_ary = te.fit(transactions).transform(transactions)\n",
        "df = pd.DataFrame(te_ary, columns=te.columns_)\n",
        "\n",
        "# In dữ liệu đã mã hóa\n",
        "# print(\"Dữ liệu sau khi mã hóa:\")\n",
        "# print(df)\n",
        "num_rows = len(df)  # hoặc df.shape[0]\n",
        "print(f\"Số dòng của df: {num_rows}\")\n",
        "# Áp dụng thuật toán Apriori\n",
        "min_support = 0.001  # Ngưỡng hỗ trợ tối thiểu (40%)\n",
        "frequent_itemsets = apriori(df, min_support=min_support, use_colnames=True)\n",
        "frequent_itemsets = frequent_itemsets.sort_values(by='support', ascending=False)# In các tập hợp mục phổ biến\n",
        "print(frequent_itemsets.count())\n",
        "print(\"\\nCác tập hợp mục phổ biến:\")\n",
        "\n",
        "# print(frequent_itemsets)\n",
        "# Lưu frequent_itemsets vào file result_apriori.txt\n",
        "with open('result_apriori_min_0.001.txt', 'w') as file:\n",
        "    # Ghi tiêu đề\n",
        "    file.write(\"Frequent Itemsets (min_support = 0.001):\\n\")\n",
        "    file.write(\"Support\\tItemsets\\n\")\n",
        "    file.write(\"-\" * 50 + \"\\n\")\n",
        "\n",
        "    # Ghi từng dòng của frequent_itemsets\n",
        "    for index, row in frequent_itemsets.iterrows():\n",
        "        support = row['support']\n",
        "        itemsets = ', '.join(row['itemsets'])  # Chuyển frozenset thành chuỗi\n",
        "        file.write(f\"{support:.4f}\\t{itemsets}\\n\")\n",
        "\n",
        "print(\"\\nĐã lưu kết quả vào file 'result_apriori_min_0.001.txt'\")\n",
        "# # Tạo luật kết hợp (association rules) từ các tập hợp phổ biến\n",
        "# rules = association_rules(frequent_itemsets, metric=\"confidence\", min_threshold=0.7)\n",
        "\n",
        "# # In các luật kết hợp\n",
        "# print(\"\\nCác luật kết hợp:\")\n",
        "# print(rules)"
      ],
      "metadata": {
        "id": "D9m0kFNsLDeA",
        "outputId": "8c977087-c2fb-45cd-f2e7-e464ea1ef8f3",
        "colab": {
          "base_uri": "https://localhost:8080/"
        }
      },
      "execution_count": null,
      "outputs": [
        {
          "output_type": "stream",
          "name": "stdout",
          "text": [
            "Số dòng của df: 14963\n",
            "support     750\n",
            "itemsets    750\n",
            "dtype: int64\n",
            "\n",
            "Các tập hợp mục phổ biến:\n",
            "\n",
            "Đã lưu kết quả vào file 'result_apriori_min_0.001.txt'\n"
          ]
        }
      ]
    },
    {
      "cell_type": "code",
      "source": [
        "# Tạo luật kết hợp (association rules) từ các tập hợp phổ biến\n",
        "rules = association_rules(frequent_itemsets, metric=\"confidence\", min_threshold=0.001)\n",
        "\n",
        "rules = rules.sort_values(by='support', ascending=False)\n",
        "# In các luật kết hợp\n",
        "print(\"\\nCác luật kết hợp:\")\n",
        "rules"
      ],
      "metadata": {
        "colab": {
          "base_uri": "https://localhost:8080/",
          "height": 619
        },
        "id": "3FgxlAe6F_Ok",
        "outputId": "c634d009-564e-4d89-f64f-5284b70d017b"
      },
      "execution_count": null,
      "outputs": [
        {
          "output_type": "stream",
          "name": "stdout",
          "text": [
            "\n",
            "Các luật kết hợp:\n"
          ]
        },
        {
          "output_type": "execute_result",
          "data": {
            "text/plain": [
              "                   antecedents               consequents  antecedent support  \\\n",
              "0                 (whole milk)        (other vegetables)            0.157923   \n",
              "1           (other vegetables)              (whole milk)            0.122101   \n",
              "2                 (rolls/buns)              (whole milk)            0.110005   \n",
              "3                 (whole milk)              (rolls/buns)            0.157923   \n",
              "4                       (soda)              (whole milk)            0.097106   \n",
              "...                        ...                       ...                 ...   \n",
              "1233        (soda, whole milk)              (rolls/buns)            0.011629   \n",
              "1234  (rolls/buns, whole milk)                    (soda)            0.013968   \n",
              "1235                    (soda)  (rolls/buns, whole milk)            0.097106   \n",
              "1236              (rolls/buns)        (soda, whole milk)            0.110005   \n",
              "1237              (whole milk)        (soda, rolls/buns)            0.157923   \n",
              "\n",
              "      consequent support   support  confidence      lift  representativity  \\\n",
              "0               0.122101  0.014837    0.093948  0.769430               1.0   \n",
              "1               0.157923  0.014837    0.121511  0.769430               1.0   \n",
              "2               0.157923  0.013968    0.126974  0.804028               1.0   \n",
              "3               0.110005  0.013968    0.088447  0.804028               1.0   \n",
              "4               0.157923  0.011629    0.119752  0.758296               1.0   \n",
              "...                  ...       ...         ...       ...               ...   \n",
              "1233            0.110005  0.001002    0.086207  0.783666               1.0   \n",
              "1234            0.097106  0.001002    0.071770  0.739091               1.0   \n",
              "1235            0.013968  0.001002    0.010323  0.739091               1.0   \n",
              "1236            0.011629  0.001002    0.009113  0.783666               1.0   \n",
              "1237            0.008087  0.001002    0.006348  0.784984               1.0   \n",
              "\n",
              "      leverage  conviction  zhangs_metric   jaccard  certainty  kulczynski  \n",
              "0    -0.004446    0.968928      -0.262461  0.055948  -0.032068    0.107730  \n",
              "1    -0.004446    0.958551      -0.254477  0.055948  -0.043241    0.107730  \n",
              "2    -0.003404    0.964550      -0.214986  0.055000  -0.036752    0.107711  \n",
              "3    -0.003404    0.976350      -0.224474  0.055000  -0.024222    0.107711  \n",
              "4    -0.003707    0.956636      -0.260917  0.047776  -0.045329    0.096694  \n",
              "...        ...         ...            ...       ...        ...         ...  \n",
              "1233 -0.000277    0.973957      -0.218324  0.008310  -0.026739    0.047660  \n",
              "1234 -0.000354    0.972705      -0.263630  0.009107  -0.028061    0.041047  \n",
              "1235 -0.000354    0.996318      -0.281082  0.009107  -0.003696    0.041047  \n",
              "1236 -0.000277    0.997461      -0.236743  0.008310  -0.002545    0.047660  \n",
              "1237 -0.000275    0.998250      -0.245443  0.006075  -0.001753    0.065157  \n",
              "\n",
              "[1238 rows x 14 columns]"
            ],
            "text/html": [
              "\n",
              "  <div id=\"df-179abf60-a880-47d4-942a-5243fde05767\" class=\"colab-df-container\">\n",
              "    <div>\n",
              "<style scoped>\n",
              "    .dataframe tbody tr th:only-of-type {\n",
              "        vertical-align: middle;\n",
              "    }\n",
              "\n",
              "    .dataframe tbody tr th {\n",
              "        vertical-align: top;\n",
              "    }\n",
              "\n",
              "    .dataframe thead th {\n",
              "        text-align: right;\n",
              "    }\n",
              "</style>\n",
              "<table border=\"1\" class=\"dataframe\">\n",
              "  <thead>\n",
              "    <tr style=\"text-align: right;\">\n",
              "      <th></th>\n",
              "      <th>antecedents</th>\n",
              "      <th>consequents</th>\n",
              "      <th>antecedent support</th>\n",
              "      <th>consequent support</th>\n",
              "      <th>support</th>\n",
              "      <th>confidence</th>\n",
              "      <th>lift</th>\n",
              "      <th>representativity</th>\n",
              "      <th>leverage</th>\n",
              "      <th>conviction</th>\n",
              "      <th>zhangs_metric</th>\n",
              "      <th>jaccard</th>\n",
              "      <th>certainty</th>\n",
              "      <th>kulczynski</th>\n",
              "    </tr>\n",
              "  </thead>\n",
              "  <tbody>\n",
              "    <tr>\n",
              "      <th>0</th>\n",
              "      <td>(whole milk)</td>\n",
              "      <td>(other vegetables)</td>\n",
              "      <td>0.157923</td>\n",
              "      <td>0.122101</td>\n",
              "      <td>0.014837</td>\n",
              "      <td>0.093948</td>\n",
              "      <td>0.769430</td>\n",
              "      <td>1.0</td>\n",
              "      <td>-0.004446</td>\n",
              "      <td>0.968928</td>\n",
              "      <td>-0.262461</td>\n",
              "      <td>0.055948</td>\n",
              "      <td>-0.032068</td>\n",
              "      <td>0.107730</td>\n",
              "    </tr>\n",
              "    <tr>\n",
              "      <th>1</th>\n",
              "      <td>(other vegetables)</td>\n",
              "      <td>(whole milk)</td>\n",
              "      <td>0.122101</td>\n",
              "      <td>0.157923</td>\n",
              "      <td>0.014837</td>\n",
              "      <td>0.121511</td>\n",
              "      <td>0.769430</td>\n",
              "      <td>1.0</td>\n",
              "      <td>-0.004446</td>\n",
              "      <td>0.958551</td>\n",
              "      <td>-0.254477</td>\n",
              "      <td>0.055948</td>\n",
              "      <td>-0.043241</td>\n",
              "      <td>0.107730</td>\n",
              "    </tr>\n",
              "    <tr>\n",
              "      <th>2</th>\n",
              "      <td>(rolls/buns)</td>\n",
              "      <td>(whole milk)</td>\n",
              "      <td>0.110005</td>\n",
              "      <td>0.157923</td>\n",
              "      <td>0.013968</td>\n",
              "      <td>0.126974</td>\n",
              "      <td>0.804028</td>\n",
              "      <td>1.0</td>\n",
              "      <td>-0.003404</td>\n",
              "      <td>0.964550</td>\n",
              "      <td>-0.214986</td>\n",
              "      <td>0.055000</td>\n",
              "      <td>-0.036752</td>\n",
              "      <td>0.107711</td>\n",
              "    </tr>\n",
              "    <tr>\n",
              "      <th>3</th>\n",
              "      <td>(whole milk)</td>\n",
              "      <td>(rolls/buns)</td>\n",
              "      <td>0.157923</td>\n",
              "      <td>0.110005</td>\n",
              "      <td>0.013968</td>\n",
              "      <td>0.088447</td>\n",
              "      <td>0.804028</td>\n",
              "      <td>1.0</td>\n",
              "      <td>-0.003404</td>\n",
              "      <td>0.976350</td>\n",
              "      <td>-0.224474</td>\n",
              "      <td>0.055000</td>\n",
              "      <td>-0.024222</td>\n",
              "      <td>0.107711</td>\n",
              "    </tr>\n",
              "    <tr>\n",
              "      <th>4</th>\n",
              "      <td>(soda)</td>\n",
              "      <td>(whole milk)</td>\n",
              "      <td>0.097106</td>\n",
              "      <td>0.157923</td>\n",
              "      <td>0.011629</td>\n",
              "      <td>0.119752</td>\n",
              "      <td>0.758296</td>\n",
              "      <td>1.0</td>\n",
              "      <td>-0.003707</td>\n",
              "      <td>0.956636</td>\n",
              "      <td>-0.260917</td>\n",
              "      <td>0.047776</td>\n",
              "      <td>-0.045329</td>\n",
              "      <td>0.096694</td>\n",
              "    </tr>\n",
              "    <tr>\n",
              "      <th>...</th>\n",
              "      <td>...</td>\n",
              "      <td>...</td>\n",
              "      <td>...</td>\n",
              "      <td>...</td>\n",
              "      <td>...</td>\n",
              "      <td>...</td>\n",
              "      <td>...</td>\n",
              "      <td>...</td>\n",
              "      <td>...</td>\n",
              "      <td>...</td>\n",
              "      <td>...</td>\n",
              "      <td>...</td>\n",
              "      <td>...</td>\n",
              "      <td>...</td>\n",
              "    </tr>\n",
              "    <tr>\n",
              "      <th>1233</th>\n",
              "      <td>(soda, whole milk)</td>\n",
              "      <td>(rolls/buns)</td>\n",
              "      <td>0.011629</td>\n",
              "      <td>0.110005</td>\n",
              "      <td>0.001002</td>\n",
              "      <td>0.086207</td>\n",
              "      <td>0.783666</td>\n",
              "      <td>1.0</td>\n",
              "      <td>-0.000277</td>\n",
              "      <td>0.973957</td>\n",
              "      <td>-0.218324</td>\n",
              "      <td>0.008310</td>\n",
              "      <td>-0.026739</td>\n",
              "      <td>0.047660</td>\n",
              "    </tr>\n",
              "    <tr>\n",
              "      <th>1234</th>\n",
              "      <td>(rolls/buns, whole milk)</td>\n",
              "      <td>(soda)</td>\n",
              "      <td>0.013968</td>\n",
              "      <td>0.097106</td>\n",
              "      <td>0.001002</td>\n",
              "      <td>0.071770</td>\n",
              "      <td>0.739091</td>\n",
              "      <td>1.0</td>\n",
              "      <td>-0.000354</td>\n",
              "      <td>0.972705</td>\n",
              "      <td>-0.263630</td>\n",
              "      <td>0.009107</td>\n",
              "      <td>-0.028061</td>\n",
              "      <td>0.041047</td>\n",
              "    </tr>\n",
              "    <tr>\n",
              "      <th>1235</th>\n",
              "      <td>(soda)</td>\n",
              "      <td>(rolls/buns, whole milk)</td>\n",
              "      <td>0.097106</td>\n",
              "      <td>0.013968</td>\n",
              "      <td>0.001002</td>\n",
              "      <td>0.010323</td>\n",
              "      <td>0.739091</td>\n",
              "      <td>1.0</td>\n",
              "      <td>-0.000354</td>\n",
              "      <td>0.996318</td>\n",
              "      <td>-0.281082</td>\n",
              "      <td>0.009107</td>\n",
              "      <td>-0.003696</td>\n",
              "      <td>0.041047</td>\n",
              "    </tr>\n",
              "    <tr>\n",
              "      <th>1236</th>\n",
              "      <td>(rolls/buns)</td>\n",
              "      <td>(soda, whole milk)</td>\n",
              "      <td>0.110005</td>\n",
              "      <td>0.011629</td>\n",
              "      <td>0.001002</td>\n",
              "      <td>0.009113</td>\n",
              "      <td>0.783666</td>\n",
              "      <td>1.0</td>\n",
              "      <td>-0.000277</td>\n",
              "      <td>0.997461</td>\n",
              "      <td>-0.236743</td>\n",
              "      <td>0.008310</td>\n",
              "      <td>-0.002545</td>\n",
              "      <td>0.047660</td>\n",
              "    </tr>\n",
              "    <tr>\n",
              "      <th>1237</th>\n",
              "      <td>(whole milk)</td>\n",
              "      <td>(soda, rolls/buns)</td>\n",
              "      <td>0.157923</td>\n",
              "      <td>0.008087</td>\n",
              "      <td>0.001002</td>\n",
              "      <td>0.006348</td>\n",
              "      <td>0.784984</td>\n",
              "      <td>1.0</td>\n",
              "      <td>-0.000275</td>\n",
              "      <td>0.998250</td>\n",
              "      <td>-0.245443</td>\n",
              "      <td>0.006075</td>\n",
              "      <td>-0.001753</td>\n",
              "      <td>0.065157</td>\n",
              "    </tr>\n",
              "  </tbody>\n",
              "</table>\n",
              "<p>1238 rows × 14 columns</p>\n",
              "</div>\n",
              "    <div class=\"colab-df-buttons\">\n",
              "\n",
              "  <div class=\"colab-df-container\">\n",
              "    <button class=\"colab-df-convert\" onclick=\"convertToInteractive('df-179abf60-a880-47d4-942a-5243fde05767')\"\n",
              "            title=\"Convert this dataframe to an interactive table.\"\n",
              "            style=\"display:none;\">\n",
              "\n",
              "  <svg xmlns=\"http://www.w3.org/2000/svg\" height=\"24px\" viewBox=\"0 -960 960 960\">\n",
              "    <path d=\"M120-120v-720h720v720H120Zm60-500h600v-160H180v160Zm220 220h160v-160H400v160Zm0 220h160v-160H400v160ZM180-400h160v-160H180v160Zm440 0h160v-160H620v160ZM180-180h160v-160H180v160Zm440 0h160v-160H620v160Z\"/>\n",
              "  </svg>\n",
              "    </button>\n",
              "\n",
              "  <style>\n",
              "    .colab-df-container {\n",
              "      display:flex;\n",
              "      gap: 12px;\n",
              "    }\n",
              "\n",
              "    .colab-df-convert {\n",
              "      background-color: #E8F0FE;\n",
              "      border: none;\n",
              "      border-radius: 50%;\n",
              "      cursor: pointer;\n",
              "      display: none;\n",
              "      fill: #1967D2;\n",
              "      height: 32px;\n",
              "      padding: 0 0 0 0;\n",
              "      width: 32px;\n",
              "    }\n",
              "\n",
              "    .colab-df-convert:hover {\n",
              "      background-color: #E2EBFA;\n",
              "      box-shadow: 0px 1px 2px rgba(60, 64, 67, 0.3), 0px 1px 3px 1px rgba(60, 64, 67, 0.15);\n",
              "      fill: #174EA6;\n",
              "    }\n",
              "\n",
              "    .colab-df-buttons div {\n",
              "      margin-bottom: 4px;\n",
              "    }\n",
              "\n",
              "    [theme=dark] .colab-df-convert {\n",
              "      background-color: #3B4455;\n",
              "      fill: #D2E3FC;\n",
              "    }\n",
              "\n",
              "    [theme=dark] .colab-df-convert:hover {\n",
              "      background-color: #434B5C;\n",
              "      box-shadow: 0px 1px 3px 1px rgba(0, 0, 0, 0.15);\n",
              "      filter: drop-shadow(0px 1px 2px rgba(0, 0, 0, 0.3));\n",
              "      fill: #FFFFFF;\n",
              "    }\n",
              "  </style>\n",
              "\n",
              "    <script>\n",
              "      const buttonEl =\n",
              "        document.querySelector('#df-179abf60-a880-47d4-942a-5243fde05767 button.colab-df-convert');\n",
              "      buttonEl.style.display =\n",
              "        google.colab.kernel.accessAllowed ? 'block' : 'none';\n",
              "\n",
              "      async function convertToInteractive(key) {\n",
              "        const element = document.querySelector('#df-179abf60-a880-47d4-942a-5243fde05767');\n",
              "        const dataTable =\n",
              "          await google.colab.kernel.invokeFunction('convertToInteractive',\n",
              "                                                    [key], {});\n",
              "        if (!dataTable) return;\n",
              "\n",
              "        const docLinkHtml = 'Like what you see? Visit the ' +\n",
              "          '<a target=\"_blank\" href=https://colab.research.google.com/notebooks/data_table.ipynb>data table notebook</a>'\n",
              "          + ' to learn more about interactive tables.';\n",
              "        element.innerHTML = '';\n",
              "        dataTable['output_type'] = 'display_data';\n",
              "        await google.colab.output.renderOutput(dataTable, element);\n",
              "        const docLink = document.createElement('div');\n",
              "        docLink.innerHTML = docLinkHtml;\n",
              "        element.appendChild(docLink);\n",
              "      }\n",
              "    </script>\n",
              "  </div>\n",
              "\n",
              "\n",
              "<div id=\"df-57331547-4821-4def-9c00-59ae8182cc63\">\n",
              "  <button class=\"colab-df-quickchart\" onclick=\"quickchart('df-57331547-4821-4def-9c00-59ae8182cc63')\"\n",
              "            title=\"Suggest charts\"\n",
              "            style=\"display:none;\">\n",
              "\n",
              "<svg xmlns=\"http://www.w3.org/2000/svg\" height=\"24px\"viewBox=\"0 0 24 24\"\n",
              "     width=\"24px\">\n",
              "    <g>\n",
              "        <path d=\"M19 3H5c-1.1 0-2 .9-2 2v14c0 1.1.9 2 2 2h14c1.1 0 2-.9 2-2V5c0-1.1-.9-2-2-2zM9 17H7v-7h2v7zm4 0h-2V7h2v10zm4 0h-2v-4h2v4z\"/>\n",
              "    </g>\n",
              "</svg>\n",
              "  </button>\n",
              "\n",
              "<style>\n",
              "  .colab-df-quickchart {\n",
              "      --bg-color: #E8F0FE;\n",
              "      --fill-color: #1967D2;\n",
              "      --hover-bg-color: #E2EBFA;\n",
              "      --hover-fill-color: #174EA6;\n",
              "      --disabled-fill-color: #AAA;\n",
              "      --disabled-bg-color: #DDD;\n",
              "  }\n",
              "\n",
              "  [theme=dark] .colab-df-quickchart {\n",
              "      --bg-color: #3B4455;\n",
              "      --fill-color: #D2E3FC;\n",
              "      --hover-bg-color: #434B5C;\n",
              "      --hover-fill-color: #FFFFFF;\n",
              "      --disabled-bg-color: #3B4455;\n",
              "      --disabled-fill-color: #666;\n",
              "  }\n",
              "\n",
              "  .colab-df-quickchart {\n",
              "    background-color: var(--bg-color);\n",
              "    border: none;\n",
              "    border-radius: 50%;\n",
              "    cursor: pointer;\n",
              "    display: none;\n",
              "    fill: var(--fill-color);\n",
              "    height: 32px;\n",
              "    padding: 0;\n",
              "    width: 32px;\n",
              "  }\n",
              "\n",
              "  .colab-df-quickchart:hover {\n",
              "    background-color: var(--hover-bg-color);\n",
              "    box-shadow: 0 1px 2px rgba(60, 64, 67, 0.3), 0 1px 3px 1px rgba(60, 64, 67, 0.15);\n",
              "    fill: var(--button-hover-fill-color);\n",
              "  }\n",
              "\n",
              "  .colab-df-quickchart-complete:disabled,\n",
              "  .colab-df-quickchart-complete:disabled:hover {\n",
              "    background-color: var(--disabled-bg-color);\n",
              "    fill: var(--disabled-fill-color);\n",
              "    box-shadow: none;\n",
              "  }\n",
              "\n",
              "  .colab-df-spinner {\n",
              "    border: 2px solid var(--fill-color);\n",
              "    border-color: transparent;\n",
              "    border-bottom-color: var(--fill-color);\n",
              "    animation:\n",
              "      spin 1s steps(1) infinite;\n",
              "  }\n",
              "\n",
              "  @keyframes spin {\n",
              "    0% {\n",
              "      border-color: transparent;\n",
              "      border-bottom-color: var(--fill-color);\n",
              "      border-left-color: var(--fill-color);\n",
              "    }\n",
              "    20% {\n",
              "      border-color: transparent;\n",
              "      border-left-color: var(--fill-color);\n",
              "      border-top-color: var(--fill-color);\n",
              "    }\n",
              "    30% {\n",
              "      border-color: transparent;\n",
              "      border-left-color: var(--fill-color);\n",
              "      border-top-color: var(--fill-color);\n",
              "      border-right-color: var(--fill-color);\n",
              "    }\n",
              "    40% {\n",
              "      border-color: transparent;\n",
              "      border-right-color: var(--fill-color);\n",
              "      border-top-color: var(--fill-color);\n",
              "    }\n",
              "    60% {\n",
              "      border-color: transparent;\n",
              "      border-right-color: var(--fill-color);\n",
              "    }\n",
              "    80% {\n",
              "      border-color: transparent;\n",
              "      border-right-color: var(--fill-color);\n",
              "      border-bottom-color: var(--fill-color);\n",
              "    }\n",
              "    90% {\n",
              "      border-color: transparent;\n",
              "      border-bottom-color: var(--fill-color);\n",
              "    }\n",
              "  }\n",
              "</style>\n",
              "\n",
              "  <script>\n",
              "    async function quickchart(key) {\n",
              "      const quickchartButtonEl =\n",
              "        document.querySelector('#' + key + ' button');\n",
              "      quickchartButtonEl.disabled = true;  // To prevent multiple clicks.\n",
              "      quickchartButtonEl.classList.add('colab-df-spinner');\n",
              "      try {\n",
              "        const charts = await google.colab.kernel.invokeFunction(\n",
              "            'suggestCharts', [key], {});\n",
              "      } catch (error) {\n",
              "        console.error('Error during call to suggestCharts:', error);\n",
              "      }\n",
              "      quickchartButtonEl.classList.remove('colab-df-spinner');\n",
              "      quickchartButtonEl.classList.add('colab-df-quickchart-complete');\n",
              "    }\n",
              "    (() => {\n",
              "      let quickchartButtonEl =\n",
              "        document.querySelector('#df-57331547-4821-4def-9c00-59ae8182cc63 button');\n",
              "      quickchartButtonEl.style.display =\n",
              "        google.colab.kernel.accessAllowed ? 'block' : 'none';\n",
              "    })();\n",
              "  </script>\n",
              "</div>\n",
              "\n",
              "  <div id=\"id_e39a5f05-1fe6-40ef-a68e-29543ade6c5a\">\n",
              "    <style>\n",
              "      .colab-df-generate {\n",
              "        background-color: #E8F0FE;\n",
              "        border: none;\n",
              "        border-radius: 50%;\n",
              "        cursor: pointer;\n",
              "        display: none;\n",
              "        fill: #1967D2;\n",
              "        height: 32px;\n",
              "        padding: 0 0 0 0;\n",
              "        width: 32px;\n",
              "      }\n",
              "\n",
              "      .colab-df-generate:hover {\n",
              "        background-color: #E2EBFA;\n",
              "        box-shadow: 0px 1px 2px rgba(60, 64, 67, 0.3), 0px 1px 3px 1px rgba(60, 64, 67, 0.15);\n",
              "        fill: #174EA6;\n",
              "      }\n",
              "\n",
              "      [theme=dark] .colab-df-generate {\n",
              "        background-color: #3B4455;\n",
              "        fill: #D2E3FC;\n",
              "      }\n",
              "\n",
              "      [theme=dark] .colab-df-generate:hover {\n",
              "        background-color: #434B5C;\n",
              "        box-shadow: 0px 1px 3px 1px rgba(0, 0, 0, 0.15);\n",
              "        filter: drop-shadow(0px 1px 2px rgba(0, 0, 0, 0.3));\n",
              "        fill: #FFFFFF;\n",
              "      }\n",
              "    </style>\n",
              "    <button class=\"colab-df-generate\" onclick=\"generateWithVariable('rules')\"\n",
              "            title=\"Generate code using this dataframe.\"\n",
              "            style=\"display:none;\">\n",
              "\n",
              "  <svg xmlns=\"http://www.w3.org/2000/svg\" height=\"24px\"viewBox=\"0 0 24 24\"\n",
              "       width=\"24px\">\n",
              "    <path d=\"M7,19H8.4L18.45,9,17,7.55,7,17.6ZM5,21V16.75L18.45,3.32a2,2,0,0,1,2.83,0l1.4,1.43a1.91,1.91,0,0,1,.58,1.4,1.91,1.91,0,0,1-.58,1.4L9.25,21ZM18.45,9,17,7.55Zm-12,3A5.31,5.31,0,0,0,4.9,8.1,5.31,5.31,0,0,0,1,6.5,5.31,5.31,0,0,0,4.9,4.9,5.31,5.31,0,0,0,6.5,1,5.31,5.31,0,0,0,8.1,4.9,5.31,5.31,0,0,0,12,6.5,5.46,5.46,0,0,0,6.5,12Z\"/>\n",
              "  </svg>\n",
              "    </button>\n",
              "    <script>\n",
              "      (() => {\n",
              "      const buttonEl =\n",
              "        document.querySelector('#id_e39a5f05-1fe6-40ef-a68e-29543ade6c5a button.colab-df-generate');\n",
              "      buttonEl.style.display =\n",
              "        google.colab.kernel.accessAllowed ? 'block' : 'none';\n",
              "\n",
              "      buttonEl.onclick = () => {\n",
              "        google.colab.notebook.generateWithVariable('rules');\n",
              "      }\n",
              "      })();\n",
              "    </script>\n",
              "  </div>\n",
              "\n",
              "    </div>\n",
              "  </div>\n"
            ],
            "application/vnd.google.colaboratory.intrinsic+json": {
              "type": "dataframe",
              "variable_name": "rules",
              "summary": "{\n  \"name\": \"rules\",\n  \"rows\": 1238,\n  \"fields\": [\n    {\n      \"column\": \"antecedents\",\n      \"properties\": {\n        \"dtype\": \"category\",\n        \"num_unique_values\": 86,\n        \"samples\": [\n          \"frozenset({'soda', 'other vegetables'})\",\n          \"frozenset({'whole milk'})\",\n          \"frozenset({'white wine'})\"\n        ],\n        \"semantic_type\": \"\",\n        \"description\": \"\"\n      }\n    },\n    {\n      \"column\": \"consequents\",\n      \"properties\": {\n        \"dtype\": \"category\",\n        \"num_unique_values\": 86,\n        \"samples\": [\n          \"frozenset({'yogurt', 'other vegetables'})\",\n          \"frozenset({'other vegetables'})\",\n          \"frozenset({'white wine'})\"\n        ],\n        \"semantic_type\": \"\",\n        \"description\": \"\"\n      }\n    },\n    {\n      \"column\": \"antecedent support\",\n      \"properties\": {\n        \"dtype\": \"number\",\n        \"std\": 0.04002780847370118,\n        \"min\": 0.005346521419501437,\n        \"max\": 0.15792287642852368,\n        \"num_unique_values\": 78,\n        \"samples\": [\n          0.0171088685424046,\n          0.15792287642852368,\n          0.021787074784468355\n        ],\n        \"semantic_type\": \"\",\n        \"description\": \"\"\n      }\n    },\n    {\n      \"column\": \"consequent support\",\n      \"properties\": {\n        \"dtype\": \"number\",\n        \"std\": 0.04002780847370118,\n        \"min\": 0.005346521419501437,\n        \"max\": 0.15792287642852368,\n        \"num_unique_values\": 78,\n        \"samples\": [\n          0.0171088685424046,\n          0.12210118291786407,\n          0.021787074784468355\n        ],\n        \"semantic_type\": \"\",\n        \"description\": \"\"\n      }\n    },\n    {\n      \"column\": \"support\",\n      \"properties\": {\n        \"dtype\": \"number\",\n        \"std\": 0.0016536722783033028,\n        \"min\": 0.0010024727661565194,\n        \"max\": 0.014836596939116486,\n        \"num_unique_values\": 85,\n        \"samples\": [\n          0.001403461872619127,\n          0.014836596939116486,\n          0.0020717770500568067\n        ],\n        \"semantic_type\": \"\",\n        \"description\": \"\"\n      }\n    },\n    {\n      \"column\": \"confidence\",\n      \"properties\": {\n        \"dtype\": \"number\",\n        \"std\": 0.03495126707890377,\n        \"min\": 0.00634786288616166,\n        \"max\": 0.2558139534883721,\n        \"num_unique_values\": 823,\n        \"samples\": [\n          0.07220216606498195,\n          0.019889970376639865,\n          0.13628318584070798\n        ],\n        \"semantic_type\": \"\",\n        \"description\": \"\"\n      }\n    },\n    {\n      \"column\": \"lift\",\n      \"properties\": {\n        \"dtype\": \"number\",\n        \"std\": 0.20411482744828321,\n        \"min\": 0.37517708268037364,\n        \"max\": 2.1829165589087607,\n        \"num_unique_values\": 855,\n        \"samples\": [\n          0.9545902704207492,\n          0.6732126509182245,\n          0.8841191641581296\n        ],\n        \"semantic_type\": \"\",\n        \"description\": \"\"\n      }\n    },\n    {\n      \"column\": \"representativity\",\n      \"properties\": {\n        \"dtype\": \"number\",\n        \"std\": 0.0,\n        \"min\": 1.0,\n        \"max\": 1.0,\n        \"num_unique_values\": 1,\n        \"samples\": [\n          1.0\n        ],\n        \"semantic_type\": \"\",\n        \"description\": \"\"\n      }\n    },\n    {\n      \"column\": \"leverage\",\n      \"properties\": {\n        \"dtype\": \"number\",\n        \"std\": 0.0006190891122950878,\n        \"min\": -0.004445973082597927,\n        \"max\": 0.0009078509855375443,\n        \"num_unique_values\": 618,\n        \"samples\": [\n          4.8559263577507145e-05\n        ],\n        \"semantic_type\": \"\",\n        \"description\": \"\"\n      }\n    },\n    {\n      \"column\": \"conviction\",\n      \"properties\": {\n        \"dtype\": \"number\",\n        \"std\": 0.016050742832491575,\n        \"min\": 0.9189791439889627,\n        \"max\": 1.1315411347991713,\n        \"num_unique_values\": 1230,\n        \"samples\": [\n          0.9717119300779321\n        ],\n        \"semantic_type\": \"\",\n        \"description\": \"\"\n      }\n    },\n    {\n      \"column\": \"zhangs_metric\",\n      \"properties\": {\n        \"dtype\": \"number\",\n        \"std\": 0.18558151042977988,\n        \"min\": -0.639297579496915,\n        \"max\": 0.5767005043320833,\n        \"num_unique_values\": 1234,\n        \"samples\": [\n          -0.440455427057853\n        ],\n        \"semantic_type\": \"\",\n        \"description\": \"\"\n      }\n    },\n    {\n      \"column\": \"jaccard\",\n      \"properties\": {\n        \"dtype\": \"number\",\n        \"std\": 0.007271348976610068,\n        \"min\": 0.006043513295729251,\n        \"max\": 0.05594758064516129,\n        \"num_unique_values\": 615,\n        \"samples\": [\n          0.024096385542168672\n        ],\n        \"semantic_type\": \"\",\n        \"description\": \"\"\n      }\n    },\n    {\n      \"column\": \"certainty\",\n      \"properties\": {\n        \"dtype\": \"number\",\n        \"std\": 0.016300190221502923,\n        \"min\": -0.08816397688782625,\n        \"max\": 0.11624953857511999,\n        \"num_unique_values\": 1233,\n        \"samples\": [\n          -0.025175091352009737\n        ],\n        \"semantic_type\": \"\",\n        \"description\": \"\"\n      }\n    },\n    {\n      \"column\": \"kulczynski\",\n      \"properties\": {\n        \"dtype\": \"number\",\n        \"std\": 0.016854652367871283,\n        \"min\": 0.021287532125619006,\n        \"max\": 0.13256207619403793,\n        \"num_unique_values\": 618,\n        \"samples\": [\n          0.07024447544233169\n        ],\n        \"semantic_type\": \"\",\n        \"description\": \"\"\n      }\n    }\n  ]\n}"
            }
          },
          "metadata": {},
          "execution_count": 112
        }
      ]
    },
    {
      "cell_type": "markdown",
      "source": [
        "## Example FPGrowth"
      ],
      "metadata": {
        "id": "G5Ygx2VLJXWp"
      }
    },
    {
      "cell_type": "code",
      "source": [
        "from pyspark.ml.fpm import FPGrowth\n",
        "from pyspark import SparkContext\n",
        "from pyspark.sql import SQLContext\n",
        "fpGrowth = FPGrowth(itemsCol=\"Basket\",\n",
        "                    minSupport=0.001,\n",
        "                    minConfidence=0.1)\n",
        "model = fpGrowth.fit(Custom_oneday_df)"
      ],
      "metadata": {
        "id": "98IzAmy9Gvcv"
      },
      "execution_count": null,
      "outputs": []
    },
    {
      "cell_type": "code",
      "source": [
        "model.freqItemsets.orderBy(\"freq\", ascending=False).show()"
      ],
      "metadata": {
        "colab": {
          "base_uri": "https://localhost:8080/"
        },
        "id": "oWM25Yx0JuJ-",
        "outputId": "8e5f9f97-f95d-4586-d881-8db8c0cba9d8"
      },
      "execution_count": null,
      "outputs": [
        {
          "output_type": "stream",
          "name": "stdout",
          "text": [
            "+--------------------+----+\n",
            "|               items|freq|\n",
            "+--------------------+----+\n",
            "|        [whole milk]|2363|\n",
            "|  [other vegetables]|1827|\n",
            "|        [rolls/buns]|1646|\n",
            "|              [soda]|1453|\n",
            "|            [yogurt]|1285|\n",
            "|   [root vegetables]|1041|\n",
            "|    [tropical fruit]|1014|\n",
            "|     [bottled water]| 908|\n",
            "|           [sausage]| 903|\n",
            "|      [citrus fruit]| 795|\n",
            "|            [pastry]| 774|\n",
            "|         [pip fruit]| 734|\n",
            "|     [shopping bags]| 712|\n",
            "|       [canned beer]| 702|\n",
            "|      [bottled beer]| 678|\n",
            "|[whipped/sour cream]| 654|\n",
            "|        [newspapers]| 582|\n",
            "|       [frankfurter]| 565|\n",
            "|       [brown bread]| 563|\n",
            "|              [pork]| 555|\n",
            "+--------------------+----+\n",
            "only showing top 20 rows\n",
            "\n"
          ]
        }
      ]
    },
    {
      "cell_type": "code",
      "source": [
        "model.freqItemsets.orderBy(\"freq\", ascending=False).count()"
      ],
      "metadata": {
        "colab": {
          "base_uri": "https://localhost:8080/"
        },
        "id": "eNyost27K51L",
        "outputId": "f65011b1-f6ce-4415-ffd6-d7e4f7d75035"
      },
      "execution_count": null,
      "outputs": [
        {
          "output_type": "execute_result",
          "data": {
            "text/plain": [
              "750"
            ]
          },
          "metadata": {},
          "execution_count": 15
        }
      ]
    },
    {
      "cell_type": "code",
      "source": [
        "df = model.freqItemsets.withColumn(\"items\", concat_ws(\",\", col(\"items\")))\n",
        "\n",
        "# Ghi ra CSV sau khi sắp xếp\n",
        "df.orderBy(col(\"freq\").desc()).write.csv(\"freqItemsets_sorted.csv\", header=True)"
      ],
      "metadata": {
        "id": "KOBFULcdLpE0"
      },
      "execution_count": null,
      "outputs": []
    },
    {
      "cell_type": "code",
      "source": [
        "model.associationRules.orderBy(\"confidence\", ascending=False).show()"
      ],
      "metadata": {
        "colab": {
          "base_uri": "https://localhost:8080/"
        },
        "id": "dXxtjkSEKLp9",
        "outputId": "9a8bae75-fd85-49ad-ba98-091a01d7bc4b"
      },
      "execution_count": null,
      "outputs": [
        {
          "output_type": "stream",
          "name": "stdout",
          "text": [
            "+--------------------+------------+-------------------+------------------+--------------------+\n",
            "|          antecedent|  consequent|         confidence|              lift|             support|\n",
            "+--------------------+------------+-------------------+------------------+--------------------+\n",
            "|   [sausage, yogurt]|[whole milk]| 0.2558139534883721|1.6198663504217148|0.001470293390362...|\n",
            "|[sausage, rolls/b...|[whole milk]|             0.2125| 1.345593525179856|0.001136135801644...|\n",
            "|     [sausage, soda]|[whole milk]| 0.1797752808988764|1.1383739010113787|0.001069304283900...|\n",
            "|[semi-finished br...|[whole milk]|  0.176056338028169|1.1148247930239072|0.001670787943594199|\n",
            "|[yogurt, rolls/buns]|[whole milk]|0.17094017094017094|1.0824281751069733|0.001336630354875...|\n",
            "|[sausage, whole m...|    [yogurt]|0.16417910447761194|1.9117602648237413|0.001470293390362...|\n",
            "|         [detergent]|[whole milk]|0.16279069767441862| 1.030824041177455|0.001403461872619127|\n",
            "|               [ham]|[whole milk]|         0.16015625|1.0141421789039358|0.002740092227494...|\n",
            "|      [bottled beer]|[whole milk]|0.15781710914454278|0.9993302598941151|0.007150972398583172|\n",
            "|       [frozen fish]|[whole milk]| 0.1568627450980392|0.9932870312746344|0.001069304283900...|\n",
            "|             [candy]|[whole milk]|0.14883720930232558|0.9424676947908158|0.002138608567800575|\n",
            "|           [sausage]|[whole milk]|0.14839424141749724|0.9396627314134623|0.008955423377664907|\n",
            "|            [onions]|[whole milk]|0.14521452145214522|0.9195280933086962|0.002940586780725...|\n",
            "|  [processed cheese]|[rolls/buns]|0.14473684210526316| 1.315733516659206|0.001470293390362...|\n",
            "|  [processed cheese]|[whole milk]|0.14473684210526316| 0.916503329843865|0.001470293390362...|\n",
            "|        [newspapers]|[whole milk]|0.14432989690721648|0.9139264694975372|0.005613847490476508|\n",
            "|     [domestic eggs]|[whole milk]|0.14234234234234233| 0.901340866893131|0.005279689901757669|\n",
            "|[packaged fruit/v...|[rolls/buns]|0.14173228346456693|1.2884205087972753|0.001202967319387...|\n",
            "| [seasonal products]|[rolls/buns]|0.14150943396226415|1.2863946903872165|0.001002472766156...|\n",
            "|          [cat food]|[whole milk]|0.14124293785310735|0.8943792124824568|0.001670787943594199|\n",
            "+--------------------+------------+-------------------+------------------+--------------------+\n",
            "only showing top 20 rows\n",
            "\n"
          ]
        }
      ]
    },
    {
      "cell_type": "code",
      "source": [
        "from pyspark.sql.functions import concat_ws\n",
        "\n",
        "# Biến đổi các mảng thành chuỗi\n",
        "rules_fixed = rules_sorted.select(\n",
        "    concat_ws(\",\", \"antecedent\").alias(\"antecedent\"),\n",
        "    concat_ws(\",\", \"consequent\").alias(\"consequent\"),\n",
        "    \"confidence\",\n",
        "    \"lift\"\n",
        ")\n",
        "\n",
        "# Lưu vào CSV (coalesce nếu muốn một file duy nhất)\n",
        "rules_fixed.coalesce(1).write.csv(\"association_rules_sorted.csv\", header=True, mode=\"overwrite\")\n"
      ],
      "metadata": {
        "id": "klErny7dh4fV"
      },
      "execution_count": null,
      "outputs": []
    },
    {
      "cell_type": "code",
      "source": [
        "from pyspark.sql.functions import concat_ws\n",
        "\n",
        "# Chuyển đổi các cột ARRAY<STRING> thành STRING\n",
        "association_rules_df = model.associationRules \\\n",
        "    .withColumn(\"antecedent\", concat_ws(\", \", \"antecedent\")) \\\n",
        "    .withColumn(\"consequent\", concat_ws(\", \", \"consequent\"))\n",
        "\n",
        "# Lưu vào file CSV (sắp xếp theo confidence giảm dần)\n",
        "association_rules_df \\\n",
        "    .orderBy(\"confidence\", ascending=False) \\\n",
        "    .coalesce(1) \\\n",
        "    .write \\\n",
        "    .option(\"header\", \"true\") \\\n",
        "    .option(\"sep\", \",\") \\\n",
        "    .mode(\"overwrite\") \\\n",
        "    .csv(\"1\")\n"
      ],
      "metadata": {
        "id": "d-h4zCe0TDY7"
      },
      "execution_count": null,
      "outputs": []
    },
    {
      "cell_type": "code",
      "source": [
        "model.associationRules.orderBy(\"confidence\", ascending=False).count()"
      ],
      "metadata": {
        "colab": {
          "base_uri": "https://localhost:8080/"
        },
        "id": "BmPT0KS2LBnD",
        "outputId": "e3f46ca2-d484-4e46-f6b4-4fb6cf6c015a"
      },
      "execution_count": null,
      "outputs": [
        {
          "output_type": "execute_result",
          "data": {
            "text/plain": [
              "131"
            ]
          },
          "metadata": {},
          "execution_count": 16
        }
      ]
    },
    {
      "cell_type": "code",
      "source": [
        "# Chọn các cột cần lưu\n",
        "columns_to_save = [\"antecedents\", \"consequents\", \"antecedent support\",\n",
        "                   \"consequent support\", \"support\", \"confidence\"]\n",
        "\n",
        "# Ghi ra file text (tab-separated)\n",
        "rules[columns_to_save].to_csv(\"association_rules.txt\", sep=\"\\t\", index=False)\n",
        "\n",
        "print(\"Đã lưu luật kết hợp vào 'association_rules.txt'\")\n"
      ],
      "metadata": {
        "colab": {
          "base_uri": "https://localhost:8080/"
        },
        "id": "gG-PWX8yXesK",
        "outputId": "d1150b60-8b97-4ae7-e4c7-45e69e00c3d7"
      },
      "execution_count": null,
      "outputs": [
        {
          "output_type": "stream",
          "name": "stdout",
          "text": [
            "Đã lưu luật kết hợp vào 'association_rules.txt'\n"
          ]
        }
      ]
    },
    {
      "cell_type": "code",
      "source": [
        "pairs_df = (Custom_oneday_df\n",
        "        .select(F.expr(\"\"\"\n",
        "            flatten(\n",
        "                transform(basket, x ->\n",
        "                    transform(filter(basket, y -> y > x), y -> array(x, y))\n",
        "                )\n",
        "            ) as pairs\n",
        "        \"\"\"))\n",
        "        .select(F.explode(\"pairs\").alias(\"pair\"))\n",
        "        .select(\n",
        "            F.col(\"pair\")[0].alias(\"item1\"),\n",
        "            F.col(\"pair\")[1].alias(\"item2\")\n",
        "        )\n",
        "    )"
      ],
      "metadata": {
        "id": "MeIfnRbwVERE"
      },
      "execution_count": null,
      "outputs": []
    },
    {
      "cell_type": "code",
      "source": [
        "pairs_df.show()"
      ],
      "metadata": {
        "colab": {
          "base_uri": "https://localhost:8080/"
        },
        "id": "b-iY5WkRl5n6",
        "outputId": "653ee4be-68b2-4907-ed77-d5d3adfa5e45"
      },
      "execution_count": null,
      "outputs": [
        {
          "output_type": "stream",
          "name": "stdout",
          "text": [
            "+--------------------+-------------------+\n",
            "|               item1|              item2|\n",
            "+--------------------+-------------------+\n",
            "|        citrus fruit|             coffee|\n",
            "|                curd|               soda|\n",
            "|    other vegetables|             yogurt|\n",
            "|   frozen vegetables|specialty chocolate|\n",
            "|             candles|     hamburger meat|\n",
            "|    other vegetables|     tropical fruit|\n",
            "|       bottled water|            sausage|\n",
            "|Instant food prod...|      bottled water|\n",
            "|             cleaner|      shopping bags|\n",
            "|       bottled water|      sliced cheese|\n",
            "|       domestic eggs|     hamburger meat|\n",
            "|        bottled beer|      domestic eggs|\n",
            "|        bottled beer|     hamburger meat|\n",
            "|   frozen vegetables|             yogurt|\n",
            "|frozen potato pro...|     hamburger meat|\n",
            "|      flower (seeds)|         whole milk|\n",
            "|       bottled water| whipped/sour cream|\n",
            "|             berries|      bottled water|\n",
            "|             berries| whipped/sour cream|\n",
            "|              dishes|             onions|\n",
            "+--------------------+-------------------+\n",
            "only showing top 20 rows\n",
            "\n"
          ]
        }
      ]
    },
    {
      "cell_type": "code",
      "source": [
        "buckets = (Custom_oneday_df\n",
        "        .select(F.expr(\"\"\"\n",
        "            flatten(\n",
        "                transform(basket, x ->\n",
        "                    transform(filter(basket, y -> y > x), y ->\n",
        "                        array(x, y, abs(hash(x) + hash(y)) % 1000)\n",
        "                    )\n",
        "                )\n",
        "            ) as pairs\n",
        "        \"\"\"))\n",
        "        .select(F.explode(\"pairs\").alias(\"pair\"))\n",
        "        .select(\n",
        "            F.col(\"pair\")[0].alias(\"item1\"),\n",
        "            F.col(\"pair\")[1].alias(\"item2\"),\n",
        "            F.col(\"pair\")[2].alias(\"bucket_index\")\n",
        "        )\n",
        "        .groupBy(\"bucket_index\")\n",
        "        .agg(\n",
        "            F.collect_set(F.concat(F.col(\"item1\"), F.lit(\"|\"), F.col(\"item2\"))).alias(\"pairs\"),\n",
        "            F.count(\"*\").alias(\"support\")\n",
        "        )\n",
        "    )"
      ],
      "metadata": {
        "id": "uxSo_I21mokr"
      },
      "execution_count": null,
      "outputs": []
    },
    {
      "cell_type": "code",
      "source": [
        "print(\"\\n📊 Thông tin bucket:\")\n",
        "(buckets\n",
        "    .orderBy(\"bucket_index\", ascending=True)\n",
        "    .show(10, truncate=False)\n",
        ")\n",
        "\n",
        "print(f\"🔢 Tổng số bucket được tạo: {buckets.count()}\")"
      ],
      "metadata": {
        "colab": {
          "base_uri": "https://localhost:8080/"
        },
        "id": "OpWsFsabmut6",
        "outputId": "f623b261-96e0-4ba0-e5d3-215249e53896"
      },
      "execution_count": null,
      "outputs": [
        {
          "output_type": "stream",
          "name": "stdout",
          "text": [
            "\n",
            "📊 Thông tin bucket:\n",
            "+------------+--------------------------------------------------------------------------------------------------------------------------------------------------------------------------------------------------------------------------------------------------------------+-------+\n",
            "|bucket_index|pairs                                                                                                                                                                                                                                                         |support|\n",
            "+------------+--------------------------------------------------------------------------------------------------------------------------------------------------------------------------------------------------------------------------------------------------------------+-------+\n",
            "|0           |[butter|decalcifier, UHT-milk|berries, bottled beer|kitchen towels, canned fruit|sausage]                                                                                                                                                                     |10     |\n",
            "|1           |[ham|rum, cream cheese |photo/film, cookware|other vegetables, other vegetables|specialty chocolate, nuts/prunes|tropical fruit, brown bread|dishes, candles|soda, coffee|curd, house keeping products|long life bakery product]                              |57     |\n",
            "|10          |[dishes|napkins, oil|organic sausage, brandy|soap, beef|berries, chewing gum|shopping bags, root vegetables|softener, canned fish|soft cheese]                                                                                                                |28     |\n",
            "|100         |[root vegetables|vinegar, brown bread|pot plants, bottled water|hygiene articles]                                                                                                                                                                             |17     |\n",
            "|101         |[cream cheese |white bread, canned beer|whole milk, frankfurter|sausage, chocolate|pip fruit, root vegetables|snack products, bottled water|long life bakery product, flour|frankfurter]                                                                      |156    |\n",
            "|102         |[packaged fruit/vegetables|semi-finished bread, dog food|flour, fruit/vegetable juice|pasta]                                                                                                                                                                  |8      |\n",
            "|103         |[pip fruit|tea, chocolate marshmallow|sausage, brown bread|white wine, domestic eggs|soft cheese, cling film/bags|finished products, cat food|cling film/bags]                                                                                                |12     |\n",
            "|104         |[canned beer|meat spreads, margarine|whipped/sour cream, frankfurter|instant coffee, newspapers|pastry, specialty chocolate|whole milk, pork|vinegar, frozen vegetables|sausage, decalcifier|whole milk]                                                      |104    |\n",
            "|105         |[ketchup|semi-finished bread, chicken|sweet spreads, cream cheese |liquor (appetizer), kitchen towels|rolls/buns, frozen fish|white bread, pickled vegetables|pork, dessert|pasta, pickled vegetables|pot plants, bathroom cleaner|sausage, detergent|popcorn]|15     |\n",
            "|106         |[liqueur|pastry, chocolate marshmallow|pork, pot plants|vinegar, baking powder|yogurt, candy|roll products , prosecco|waffles]                                                                                                                                |18     |\n",
            "+------------+--------------------------------------------------------------------------------------------------------------------------------------------------------------------------------------------------------------------------------------------------------------+-------+\n",
            "only showing top 10 rows\n",
            "\n",
            "🔢 Tổng số bucket được tạo: 1000\n"
          ]
        }
      ]
    },
    {
      "cell_type": "code",
      "source": [
        "buckets_with_bit = buckets.withColumn(\n",
        "    \"bit_vector\",\n",
        "    when(col(\"support\") >= 15, 1).otherwise(0)\n",
        ")\n",
        "buckets_with_bit= buckets_with_bit.orderBy(desc(\"support\"))\n",
        "# Hiển thị kết quả\n",
        "buckets_with_bit.show()"
      ],
      "metadata": {
        "colab": {
          "base_uri": "https://localhost:8080/"
        },
        "id": "Fes9tspu7esm",
        "outputId": "1f140336-704e-4916-cb80-41a746efc9ef"
      },
      "execution_count": null,
      "outputs": [
        {
          "output_type": "stream",
          "name": "stdout",
          "text": [
            "+------------+--------------------+-------+----------+\n",
            "|bucket_index|               pairs|support|bit_vector|\n",
            "+------------+--------------------+-------+----------+\n",
            "|         350|[dessert|soft che...|    333|         1|\n",
            "|         961|[candles|seasonal...|    268|         1|\n",
            "|         755|[rolls/buns|whole...|    238|         1|\n",
            "|         613|[beef|curd cheese...|    218|         1|\n",
            "|         898|[whole milk|yogur...|    199|         1|\n",
            "|         578|[soda|whole milk,...|    190|         1|\n",
            "|         252|[canned beer|fran...|    189|         1|\n",
            "|         373|[margarine|season...|    186|         1|\n",
            "|          87|[bottled water|fr...|    166|         1|\n",
            "|         612|[cream cheese |pa...|    165|         1|\n",
            "|         101|[cream cheese |wh...|    156|         1|\n",
            "|         786|[citrus fruit|ice...|    155|         1|\n",
            "|         801|[semi-finished br...|    149|         1|\n",
            "|         500|[newspapers|whole...|    148|         1|\n",
            "|         586|[sausage|specialt...|    143|         1|\n",
            "|         407|[bottled water|co...|    140|         1|\n",
            "|         293|[liquor|sausage, ...|    138|         1|\n",
            "|         381|[pip fruit|potato...|    135|         1|\n",
            "|          12|[nut snack|whole ...|    134|         1|\n",
            "|         824|[rolls/buns|root ...|    131|         1|\n",
            "+------------+--------------------+-------+----------+\n",
            "only showing top 20 rows\n",
            "\n"
          ]
        }
      ]
    },
    {
      "cell_type": "code",
      "source": [
        "one_item_df=(Custom_oneday_df\n",
        "            .select(F.explode(\"basket\").alias(\"item\"))\n",
        "            .groupBy(\"item\")\n",
        "            .agg(F.count(\"*\").alias(\"count\"))\n",
        "            .filter(F.col(\"count\") >= 2)\n",
        "        )\n",
        "one_item_df = (one_item_df\n",
        "                .withColumn(\"probability\", F.round(F.col(\"count\") / 14693,4))\n",
        "                .filter(F.col(\"probability\") >= 0.001))\n",
        "print(\"✅ Đã lọc item đơn lẻ bởi support_threshold.\")\n",
        "\n",
        "# Tạo frequent_items_df với item và probability\n",
        "frequent_itemsets = one_item_df.select(\"item\", \"probability\")"
      ],
      "metadata": {
        "colab": {
          "base_uri": "https://localhost:8080/"
        },
        "id": "AKKb7ny8hw8G",
        "outputId": "4816d5d4-7f8c-4303-a981-a183129e3a21"
      },
      "execution_count": null,
      "outputs": [
        {
          "output_type": "stream",
          "name": "stdout",
          "text": [
            "✅ Đã lọc item đơn lẻ bởi support_threshold.\n"
          ]
        }
      ]
    },
    {
      "cell_type": "code",
      "source": [
        "pairs_exploded = (\n",
        "    buckets_with_bit\n",
        "    .filter(col(\"bit_vector\") == 1)\n",
        "    .select(explode(col(\"pairs\")).alias(\"pair\"))\n",
        "    .select(split(col(\"pair\"), \"\\\\|\").alias(\"items\"))\n",
        "    .select(sort_array(array(col(\"items\")[0], col(\"items\")[1])).alias(\"sorted_pair\"))\n",
        ")\n",
        "\n",
        "pairs_exploded.show(truncate=False)"
      ],
      "metadata": {
        "colab": {
          "base_uri": "https://localhost:8080/"
        },
        "id": "bA__PaarfM__",
        "outputId": "9578d151-3d3a-4b57-e042-98f82add32b3"
      },
      "execution_count": null,
      "outputs": [
        {
          "output_type": "stream",
          "name": "stdout",
          "text": [
            "+-------------------------------------------+\n",
            "|sorted_pair                                |\n",
            "+-------------------------------------------+\n",
            "|[dessert, soft cheese]                     |\n",
            "|[other vegetables, rolls/buns]             |\n",
            "|[red/blush wine, tropical fruit]           |\n",
            "|[cream cheese , newspapers]                |\n",
            "|[beef, citrus fruit]                       |\n",
            "|[bottled beer, whole milk]                 |\n",
            "|[frankfurter, packaged fruit/vegetables]   |\n",
            "|[hamburger meat, packaged fruit/vegetables]|\n",
            "|[pickled vegetables, syrup]                |\n",
            "|[curd, specialty bar]                      |\n",
            "|[chocolate, packaged fruit/vegetables]     |\n",
            "|[candles, seasonal products]               |\n",
            "|[other vegetables, whole milk]             |\n",
            "|[domestic eggs, root vegetables]           |\n",
            "|[long life bakery product, newspapers]     |\n",
            "|[dishes, mayonnaise]                       |\n",
            "|[nuts/prunes, sausage]                     |\n",
            "|[rolls/buns, whole milk]                   |\n",
            "|[domestic eggs, photo/film]                |\n",
            "|[butter milk, dental care]                 |\n",
            "+-------------------------------------------+\n",
            "only showing top 20 rows\n",
            "\n"
          ]
        }
      ]
    },
    {
      "cell_type": "code",
      "source": [
        "pairs_exploded.count()"
      ],
      "metadata": {
        "colab": {
          "base_uri": "https://localhost:8080/"
        },
        "id": "SEmmOo5ski8j",
        "outputId": "f9d4ab0c-f8a3-4d08-f010-d2062d128b64"
      },
      "execution_count": null,
      "outputs": [
        {
          "output_type": "execute_result",
          "data": {
            "text/plain": [
              "5370"
            ]
          },
          "metadata": {},
          "execution_count": 101
        }
      ]
    },
    {
      "cell_type": "code",
      "source": [
        "candidate_pairs = (\n",
        "    pairs_exploded\n",
        "    .join(frequent_itemsets.alias(\"f1\"), pairs_exploded.sorted_pair[0] == col(\"f1.item\"))\n",
        "    .join(frequent_itemsets.alias(\"f2\"), pairs_exploded.sorted_pair[1] == col(\"f2.item\"))\n",
        "    .select(\"sorted_pair\")\n",
        "    .distinct()\n",
        ")\n",
        "\n",
        "candidate_pairs.show(truncate=False)"
      ],
      "metadata": {
        "colab": {
          "base_uri": "https://localhost:8080/"
        },
        "id": "Rqj2XYwahX1J",
        "outputId": "ced6caf4-292e-4387-a7dc-3e1dab761ee2"
      },
      "execution_count": null,
      "outputs": [
        {
          "output_type": "stream",
          "name": "stdout",
          "text": [
            "+---------------------------------------+\n",
            "|sorted_pair                            |\n",
            "+---------------------------------------+\n",
            "|[pastry, soda]                         |\n",
            "|[hard cheese, pip fruit]               |\n",
            "|[meat, other vegetables]               |\n",
            "|[meat, white wine]                     |\n",
            "|[house keeping products, newspapers]   |\n",
            "|[onions, prosecco]                     |\n",
            "|[cocoa drinks, whole milk]             |\n",
            "|[frozen meals, spread cheese]          |\n",
            "|[packaged fruit/vegetables, popcorn]   |\n",
            "|[beef, meat spreads]                   |\n",
            "|[butter, ketchup]                      |\n",
            "|[house keeping products, spread cheese]|\n",
            "|[female sanitary products, frankfurter]|\n",
            "|[hard cheese, instant coffee]          |\n",
            "|[flower soil/fertilizer, soda]         |\n",
            "|[frankfurter, pudding powder]          |\n",
            "|[citrus fruit, pudding powder]         |\n",
            "|[frankfurter, waffles]                 |\n",
            "|[beef, salt]                           |\n",
            "|[packaged fruit/vegetables, pip fruit] |\n",
            "+---------------------------------------+\n",
            "only showing top 20 rows\n",
            "\n"
          ]
        }
      ]
    },
    {
      "cell_type": "code",
      "source": [
        "candidate_pairs.count()"
      ],
      "metadata": {
        "colab": {
          "base_uri": "https://localhost:8080/"
        },
        "id": "py35BLKlijLO",
        "outputId": "c7723b4a-d761-4b6c-b553-c075c10dc478"
      },
      "execution_count": null,
      "outputs": [
        {
          "output_type": "execute_result",
          "data": {
            "text/plain": [
              "5217"
            ]
          },
          "metadata": {},
          "execution_count": 100
        }
      ]
    },
    {
      "cell_type": "code",
      "source": [
        "candidate_pairs = candidate_pairs.withColumn(\"item1\", col(\"sorted_pair\")[0]) \\\n",
        "                                 .withColumn(\"item2\", col(\"sorted_pair\")[1]) \\\n",
        "                                 .drop(\"sorted_pair\")"
      ],
      "metadata": {
        "id": "xzwo9eTjnT-z"
      },
      "execution_count": null,
      "outputs": []
    },
    {
      "cell_type": "code",
      "source": [
        "candidate_pairs.show(truncate=False)"
      ],
      "metadata": {
        "colab": {
          "base_uri": "https://localhost:8080/"
        },
        "id": "ksPyMANnnWTA",
        "outputId": "e6962587-52bc-4deb-9617-dc5bd2a97ae3"
      },
      "execution_count": null,
      "outputs": [
        {
          "output_type": "stream",
          "name": "stdout",
          "text": [
            "+-------------------------+----------------+\n",
            "|item1                    |item2           |\n",
            "+-------------------------+----------------+\n",
            "|butter                   |ketchup         |\n",
            "|house keeping products   |spread cheese   |\n",
            "|female sanitary products |frankfurter     |\n",
            "|pastry                   |soda            |\n",
            "|onions                   |prosecco        |\n",
            "|packaged fruit/vegetables|pot plants      |\n",
            "|packaged fruit/vegetables|popcorn         |\n",
            "|hard cheese              |instant coffee  |\n",
            "|house keeping products   |newspapers      |\n",
            "|flower soil/fertilizer   |soda            |\n",
            "|frankfurter              |pudding powder  |\n",
            "|beef                     |salt            |\n",
            "|jam                      |whole milk      |\n",
            "|meat                     |other vegetables|\n",
            "|hard cheese              |pip fruit       |\n",
            "|cocoa drinks             |whole milk      |\n",
            "|frankfurter              |waffles         |\n",
            "|beef                     |meat spreads    |\n",
            "|frozen meals             |spread cheese   |\n",
            "|packaged fruit/vegetables|pip fruit       |\n",
            "+-------------------------+----------------+\n",
            "only showing top 20 rows\n",
            "\n"
          ]
        }
      ]
    },
    {
      "cell_type": "code",
      "source": [
        "from pyspark.sql.functions import col, expr, explode\n",
        "\n",
        "# Bước 1: Sinh tất cả cặp sản phẩm từ Basket\n",
        "basket_pairs = (\n",
        "    Custom_oneday_df\n",
        "    .withColumn(\"pairs\", expr(\"\"\"\n",
        "        flatten(\n",
        "            transform(Basket, x ->\n",
        "                transform(Basket, y ->\n",
        "                    IF(x < y, array(x, y), NULL)\n",
        "                )\n",
        "            )\n",
        "        )\n",
        "    \"\"\"))  # Tạo danh sách cặp (x, y) và đảm bảo cặp luôn có thứ tự (x < y)\n",
        "    .withColumn(\"pairs\", expr(\"FILTER(pairs, x -> x[0] != x[1])\"))  # Loại bỏ cặp (x, x)\n",
        "    .withColumn(\"pair\", explode(col(\"pairs\")))  # Phân rã danh sách cặp\n",
        "    .select(\"pair\")  # Chỉ lấy cột chứa cặp\n",
        ")\n",
        "\n",
        "filtered_pairs = (\n",
        "    basket_pairs\n",
        "    .join(candidate_pairs, col(\"pair\") == expr(\"array(item1, item2)\"), \"inner\")\n",
        ")\n",
        "\n",
        "# Bước 3: Đếm số lần xuất hiện của từng cặp\n",
        "pair_support = (\n",
        "    filtered_pairs\n",
        "    .groupBy(\"item1\", \"item2\")\n",
        "    .count()\n",
        "    .filter(col(\"count\") >= 15)\n",
        "\n",
        ")\n",
        "\n",
        "# 👉 **Thêm bản sao hoán đổi item1 ↔ item2**\n",
        "pair_support = pair_support.union(\n",
        "    pair_support.selectExpr(\"item2 as item1\", \"item1 as item2\", \"count\")\n",
        ")\n",
        "\n",
        "\n",
        "# Hiển thị kết quả\n",
        "pair_support.show(truncate=False)"
      ],
      "metadata": {
        "colab": {
          "base_uri": "https://localhost:8080/"
        },
        "id": "3dAVwGXQjbqJ",
        "outputId": "c73dcde3-aa69-4649-cf47-99597615f7f9"
      },
      "execution_count": null,
      "outputs": [
        {
          "output_type": "stream",
          "name": "stdout",
          "text": [
            "+----------------+---------------------+-----+\n",
            "|item1           |item2                |count|\n",
            "+----------------+---------------------+-----+\n",
            "|pastry          |soda                 |61   |\n",
            "|hard cheese     |pip fruit            |16   |\n",
            "|meat            |other vegetables     |32   |\n",
            "|soda            |tropical fruit       |81   |\n",
            "|bottled water   |butter               |27   |\n",
            "|domestic eggs   |fruit/vegetable juice|16   |\n",
            "|citrus fruit    |whole milk           |107  |\n",
            "|domestic eggs   |pork                 |18   |\n",
            "|domestic eggs   |tropical fruit       |32   |\n",
            "|cream cheese    |frankfurter          |15   |\n",
            "|other vegetables|whole milk           |222  |\n",
            "|margarine       |whipped/sour cream   |17   |\n",
            "|berries         |soda                 |22   |\n",
            "|onions          |root vegetables      |20   |\n",
            "|hamburger meat  |tropical fruit       |20   |\n",
            "|soda            |specialty bar        |19   |\n",
            "|processed cheese|root vegetables      |16   |\n",
            "|other vegetables|sausage              |90   |\n",
            "|bottled water   |pip fruit            |30   |\n",
            "|specialty bar   |yogurt               |18   |\n",
            "+----------------+---------------------+-----+\n",
            "only showing top 20 rows\n",
            "\n"
          ]
        }
      ]
    },
    {
      "cell_type": "code",
      "source": [
        "pair_support.count()"
      ],
      "metadata": {
        "colab": {
          "base_uri": "https://localhost:8080/"
        },
        "id": "WGFzcrr7Uozo",
        "outputId": "4a2518ab-5f11-48d2-9c52-1509187fd7a1"
      },
      "execution_count": null,
      "outputs": [
        {
          "output_type": "execute_result",
          "data": {
            "text/plain": [
              "1184"
            ]
          },
          "metadata": {},
          "execution_count": 149
        }
      ]
    },
    {
      "cell_type": "code",
      "source": [
        "\n",
        "# 👉 **Bước 1: Join để thêm item1_support**\n",
        "pair_support = pair_support.join(\n",
        "    df.selectExpr(\"item as item1\", \"support as item1_support\"),\n",
        "    on=\"item1\",\n",
        "    how=\"left\"\n",
        ")\n",
        "\n",
        "# 👉 **Bước 2: Join để thêm item2_support**\n",
        "pair_support = pair_support.join(\n",
        "    df.selectExpr(\"item as item2\", \"support as item2_support\"),\n",
        "    on=\"item2\",\n",
        "    how=\"left\"\n",
        ")\n",
        "pair_support = (\n",
        "    pair_support\n",
        "    .select(\"item1\", \"item2\", \"count\", \"item1_support\", \"item2_support\")  # Chỉ giữ cần thiết\n",
        "    .withColumn(\"support\", F.round(col(\"count\") / 14963, 4))  # Tạo cột support\n",
        "    .drop(\"count\")  # Xóa cột count\n",
        "    .withColumn(\"confidence\", F.round(col(\"support\") / col(\"item1_support\"), 4))  # Tính confidence\n",
        ")\n",
        "\n"
      ],
      "metadata": {
        "id": "EPLMLZWdjYGp"
      },
      "execution_count": null,
      "outputs": []
    },
    {
      "cell_type": "code",
      "source": [
        "pair_support.count()"
      ],
      "metadata": {
        "colab": {
          "base_uri": "https://localhost:8080/"
        },
        "id": "g7nMrhEWwE3O",
        "outputId": "22694424-49ca-484a-f8bd-f32a904a87d8"
      },
      "execution_count": null,
      "outputs": [
        {
          "output_type": "execute_result",
          "data": {
            "text/plain": [
              "1184"
            ]
          },
          "metadata": {},
          "execution_count": 172
        }
      ]
    },
    {
      "cell_type": "markdown",
      "source": [
        "## Association rules"
      ],
      "metadata": {
        "id": "Hs7h53imYZ4v"
      }
    },
    {
      "cell_type": "code",
      "source": [
        "pair_support = pair_support.filter(\n",
        "    expr(\"confidence >= 0.1\")\n",
        ")"
      ],
      "metadata": {
        "id": "oAwQ2Tb1vn_m"
      },
      "execution_count": null,
      "outputs": []
    },
    {
      "cell_type": "code",
      "source": [
        "\n",
        "pair_support = pair_support.orderBy(desc(\"confidence\"))\n",
        "\n",
        "# 👉 **Hiển thị kết quả**\n",
        "pair_support.show(truncate=False)"
      ],
      "metadata": {
        "colab": {
          "base_uri": "https://localhost:8080/"
        },
        "id": "u-0AmR6NwApx",
        "outputId": "de459e4f-8522-475a-dcc0-953dbb83519e"
      },
      "execution_count": null,
      "outputs": [
        {
          "output_type": "stream",
          "name": "stdout",
          "text": [
            "+-------------------------+----------+-------------+-------------+-------+----------+\n",
            "|item1                    |item2     |item1_support|item2_support|support|confidence|\n",
            "+-------------------------+----------+-------------+-------------+-------+----------+\n",
            "|semi-finished bread      |whole milk|0.0095       |0.1579       |0.0017 |0.1789    |\n",
            "|detergent                |whole milk|0.0086       |0.1579       |0.0014 |0.1628    |\n",
            "|frozen fish              |whole milk|0.0068       |0.1579       |0.0011 |0.1618    |\n",
            "|bottled beer             |whole milk|0.0453       |0.1579       |0.0072 |0.1589    |\n",
            "|ham                      |whole milk|0.0171       |0.1579       |0.0027 |0.1579    |\n",
            "|sausage                  |whole milk|0.0603       |0.1579       |0.009  |0.1493    |\n",
            "|processed cheese         |rolls/buns|0.0102       |0.11         |0.0015 |0.1471    |\n",
            "|processed cheese         |whole milk|0.0102       |0.1579       |0.0015 |0.1471    |\n",
            "|candy                    |whole milk|0.0144       |0.1579       |0.0021 |0.1458    |\n",
            "|cat food                 |whole milk|0.0118       |0.1579       |0.0017 |0.1441    |\n",
            "|newspapers               |whole milk|0.0389       |0.1579       |0.0056 |0.144     |\n",
            "|onions                   |whole milk|0.0202       |0.1579       |0.0029 |0.1436    |\n",
            "|domestic eggs            |whole milk|0.0371       |0.1579       |0.0053 |0.1429    |\n",
            "|chewing gum              |whole milk|0.012        |0.1579       |0.0017 |0.1417    |\n",
            "|hamburger meat           |whole milk|0.0219       |0.1579       |0.0031 |0.1416    |\n",
            "|packaged fruit/vegetables|rolls/buns|0.0085       |0.11         |0.0012 |0.1412    |\n",
            "|sugar                    |whole milk|0.0177       |0.1579       |0.0025 |0.1412    |\n",
            "|seasonal products        |rolls/buns|0.0071       |0.11         |0.001  |0.1408    |\n",
            "|waffles                  |whole milk|0.0185       |0.1579       |0.0026 |0.1405    |\n",
            "|frankfurter              |whole milk|0.0378       |0.1579       |0.0053 |0.1402    |\n",
            "+-------------------------+----------+-------------+-------------+-------+----------+\n",
            "only showing top 20 rows\n",
            "\n"
          ]
        }
      ]
    },
    {
      "cell_type": "code",
      "source": [
        "pair_support.count()"
      ],
      "metadata": {
        "colab": {
          "base_uri": "https://localhost:8080/"
        },
        "id": "Q-a7ffSpwLTa",
        "outputId": "6e8c78b3-4973-45d2-ee61-b77546c9fbbc"
      },
      "execution_count": null,
      "outputs": [
        {
          "output_type": "execute_result",
          "data": {
            "text/plain": [
              "111"
            ]
          },
          "metadata": {},
          "execution_count": 198
        }
      ]
    },
    {
      "cell_type": "code",
      "source": [
        "from pyspark.sql.functions import concat_ws, col, lit\n",
        "\n",
        "pair_support = pair_support.withColumn(\n",
        "    \"rule\",\n",
        "    concat_ws(\" -> \", concat_ws(\"\", lit(\"{\"), col(\"item1\"), lit(\"}\")), concat_ws(\"\", lit(\"{\"), col(\"item2\"), lit(\"}\")))\n",
        ")\n",
        "\n",
        "# Lưu vào file TXT\n",
        "pair_support.select(\"rule\").coalesce(1).write.mode(\"overwrite\").text(\"rules.txt\")"
      ],
      "metadata": {
        "id": "uCmQKyhowDhv"
      },
      "execution_count": null,
      "outputs": []
    },
    {
      "cell_type": "code",
      "source": [
        "spark.stop()"
      ],
      "metadata": {
        "id": "auKD19qxwfu-"
      },
      "execution_count": null,
      "outputs": []
    }
  ]
}